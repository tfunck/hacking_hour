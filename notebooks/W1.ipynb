{
 "cells": [
  {
   "cell_type": "code",
   "execution_count": 2,
   "metadata": {},
   "outputs": [
    {
     "name": "stdout",
     "output_type": "stream",
     "text": [
      "1\n",
      "2\n",
      "3\n"
     ]
    }
   ],
   "source": [
    "### Variables and integers\n",
    "\n",
    "# variables are the most basic data structure. \n",
    "\n",
    "x = 1 #here set <x> to equal the integer 1\n",
    "\n",
    "print(x) #print is a function that displays the value of a variable or other data types\n",
    "\n",
    "x = 2 #here we modify the variable <x> to equal the integer 2\n",
    "\n",
    "print(x)\n"
   ]
  },
  {
   "cell_type": "code",
   "execution_count": null,
   "metadata": {},
   "outputs": [],
   "source": [
    "### Characters\n",
    "# variables can point to different types of data\n",
    "\n",
    "x = 'c' #instead of pointing to an integer, the variable now points to a character, 'c'\n",
    "\n",
    "print(x)"
   ]
  },
  {
   "cell_type": "code",
   "execution_count": null,
   "metadata": {},
   "outputs": [],
   "source": [
    "### EXERCISE: define a variable a print it "
   ]
  },
  {
   "cell_type": "code",
   "execution_count": 3,
   "metadata": {},
   "outputs": [
    {
     "name": "stdout",
     "output_type": "stream",
     "text": [
      "True\n",
      "False\n",
      "False\n"
     ]
    }
   ],
   "source": [
    "### Booleans\n",
    "x = True #booleans are another type of data, they can be True or False\n",
    "\n",
    "print(x)\n",
    "\n",
    "x=3\n",
    "y='3' #here we define a new variable and equate it to the character, not the number, 3\n",
    "\n",
    "print(x == y) #using the == operator, we can check if two data structures are equal to one another.\n",
    "\n",
    "z = x == y # we can also assign the result of a == operator to a new variable,<z>\n",
    "\n",
    "print(z)\n"
   ]
  },
  {
   "cell_type": "code",
   "execution_count": 1,
   "metadata": {},
   "outputs": [
    {
     "name": "stdout",
     "output_type": "stream",
     "text": [
      "x = 0 y = 0.0 z =  0\n",
      "True False\n",
      "True True\n"
     ]
    }
   ],
   "source": [
    "### Variable value versus address\n",
    "# Another way to compare two variables is with \"is\".\n",
    "# x is y == True if x and y are the same\n",
    "x=0\n",
    "y=0.\n",
    "z=0\n",
    "print('x =',x,'y =',y, 'z = ',z)\n",
    "print(x == y, x is y)\n",
    "print(x == z, x is z)\n",
    "\n",
    "# Why does \"x==y\" return True, but \"x is y\" return False?"
   ]
  },
  {
   "cell_type": "code",
   "execution_count": null,
   "metadata": {},
   "outputs": [],
   "source": [
    "# \"==\" compares the values of variables, in this case 0 and 0.0\n",
    "# \"is\" compares the variables' addresses in memory\n",
    "# The \"id()\" function returns the address in memory of a variable.\n",
    "# You can think of the address like the street address of the variable in your computer's memory. \n",
    "\n",
    "print('x is stored at',id(x),'and y is stored at',id(y))\n",
    "\n",
    "#so because id(x) does not equal id(x), \"x is y\" returns False"
   ]
  },
  {
   "cell_type": "code",
   "execution_count": 5,
   "metadata": {},
   "outputs": [
    {
     "name": "stdout",
     "output_type": "stream",
     "text": [
      "1\n",
      "1\n",
      "1.0\n",
      "True\n"
     ]
    }
   ],
   "source": [
    "### Casting variables\n",
    "\n",
    "# Variables can often be cast from one data type to another\n",
    "x_char='1'\n",
    "x_int=int(x_char)\n",
    "x_float=float(x_char) #float is a data type that represents real numbers with a specific number of decimal places\n",
    "x_bool=bool(x_char)\n",
    "print('Original variable:', x_char)\n",
    "print('Cast to integer:', x_int)\n",
    "print('Cast to float:', x_float)\n",
    "print('Cast to bool:', x_bool)"
   ]
  },
  {
   "cell_type": "code",
   "execution_count": null,
   "metadata": {},
   "outputs": [],
   "source": [
    "### EXCERCISE \n",
    "# 1. Define a floating point variable with a few decimal points (e.g., 2.54) and cast it to integer. \n",
    "#    What happens?\n",
    "\n",
    "\n",
    "# 2. Can you guess what values evaluate to False when cast to bool?\n",
    "#    Hint: booleans are binary logical values and we already know that bool(1) == True"
   ]
  },
  {
   "cell_type": "code",
   "execution_count": null,
   "metadata": {},
   "outputs": [],
   "source": [
    "### SOLUTION :\n",
    "# 1. int(2.54) == 2, this means that int() just truncates the number and drops the .54. hence int() doesn't\n",
    "#    round the number. This can cause problems if you don't expect this behaviour.\n",
    "\n",
    "#2. bool(0) == False"
   ]
  },
  {
   "cell_type": "code",
   "execution_count": 1,
   "metadata": {},
   "outputs": [
    {
     "name": "stdout",
     "output_type": "stream",
     "text": [
      "1) 3\n",
      "2) 2\n",
      "3) 1\n",
      "4) 2\n",
      "5) 3\n",
      "6) 9\n"
     ]
    }
   ],
   "source": [
    "### Mathematical operations\n",
    "\n",
    "x=2\n",
    "y=1\n",
    "z=x+y\n",
    "print('1)',z)\n",
    "\n",
    "z=x*y\n",
    "print('2)',z)\n",
    "\n",
    "z=x-y\n",
    "print('3)',z)\n",
    "\n",
    "y = y + 1 # can use mathematical operations recursively\n",
    "print('4)',y)\n",
    "\n",
    "y += 1 #a shorter way of writing the same recursive operation\n",
    "        #the same is possible with subtraction, y -= 1, multiplication, y *= 2, \n",
    "        #and division, y /= 4,  \n",
    "print('5)',y)\n",
    "\n",
    "z=y**x # ** is an exponential operator, i.e., y^x\n",
    "print('6)',z)"
   ]
  },
  {
   "cell_type": "code",
   "execution_count": 1,
   "metadata": {},
   "outputs": [
    {
     "name": "stdout",
     "output_type": "stream",
     "text": [
      "4.0\n"
     ]
    }
   ],
   "source": [
    "### EXERCISE: Write a 4 lines of code using +=, -=, *=, /= and only \n",
    "###           the variables x=1,y=2, such that x == 4 is true\n",
    "\n",
    "x=1\n",
    "y=2\n",
    "\n",
    "\n",
    "\n",
    "print(x==4)"
   ]
  },
  {
   "cell_type": "code",
   "execution_count": null,
   "metadata": {},
   "outputs": [],
   "source": [
    "# SOLUTION :\n",
    "# x=1\n",
    "# y=2\n",
    "# x += y \n",
    "# x *= y \n",
    "# x -= -y  \n",
    "# x /= y\n",
    "\n"
   ]
  },
  {
   "cell_type": "code",
   "execution_count": 18,
   "metadata": {},
   "outputs": [
    {
     "name": "stdout",
     "output_type": "stream",
     "text": [
      "1) True False\n",
      "2) False\n",
      "3) True\n",
      "4) True\n"
     ]
    }
   ],
   "source": [
    "### Operators on booleans\n",
    "x=True\n",
    "y = not x # <not> as a negation operator. Since x is True, then not x is False\n",
    "print('1)',x,y) #You can print multiple variables by separating them with a comma\n",
    "\n",
    "print('2)',x and y) # <and> is an operator that evaluates to True if both input variables are True\n",
    "print('3)',x or y ) # <or> is an operator that evaluates to True if just one of the input variables are True\n",
    "\n",
    "print('4)', (x or y) and x ) #multiple boolean operators can be combined together, just make sure to put \n",
    "                        #parenthases around each operator. (x or y) and x is not the same as x or (y and x)"
   ]
  },
  {
   "cell_type": "code",
   "execution_count": null,
   "metadata": {},
   "outputs": [],
   "source": [
    "### EXERCISE:\n",
    "# --> Write an a line that evaluates to True and uses x, y, <not>, <or>, uses <and> twice"
   ]
  },
  {
   "cell_type": "code",
   "execution_count": 2,
   "metadata": {},
   "outputs": [
    {
     "name": "stdout",
     "output_type": "stream",
     "text": [
      "True\n"
     ]
    }
   ],
   "source": [
    "### Solution :\n",
    "x=True\n",
    "y=False\n",
    "print(  ((not y and x) and x) or y )"
   ]
  }
 ],
 "metadata": {
  "kernelspec": {
   "display_name": "Python 3",
   "language": "python",
   "name": "python3"
  },
  "language_info": {
   "codemirror_mode": {
    "name": "ipython",
    "version": 3
   },
   "file_extension": ".py",
   "mimetype": "text/x-python",
   "name": "python",
   "nbconvert_exporter": "python",
   "pygments_lexer": "ipython3",
   "version": "3.6.9"
  }
 },
 "nbformat": 4,
 "nbformat_minor": 2
}
