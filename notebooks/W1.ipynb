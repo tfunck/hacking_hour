{
 "cells": [
  {
   "cell_type": "code",
   "execution_count": null,
   "metadata": {},
   "outputs": [],
   "source": [
    "# Programming is about writing instructions that can be executed by a computer and read by human beings.\n",
    "\n",
    "# Data and functions that manipulate data\n"
   ]
  },
  {
   "cell_type": "code",
   "execution_count": 2,
   "metadata": {},
   "outputs": [
    {
     "name": "stdout",
     "output_type": "stream",
     "text": [
      "1\n",
      "2\n",
      "3\n"
     ]
    }
   ],
   "source": [
    "### Variables and integers\n",
    "\n",
    "# variables are the most basic data structure. \n",
    "\n",
    "x = 1 #here set <x> to equal the integer 1\n",
    "\n",
    "print(x) #print is a function that displays the value of a variable or other data types\n",
    "\n",
    "x = 2 #here we modify the variable <x> to equal the integer 2\n",
    "\n",
    "print(x)"
   ]
  },
  {
   "cell_type": "code",
   "execution_count": null,
   "metadata": {},
   "outputs": [],
   "source": [
    "### Characters\n",
    "# variables can point to different types of data\n",
    "\n",
    "x = 'c' #instead of pointing to an integer, the variable now points to a character, 'c'\n",
    "\n",
    "print(x)"
   ]
  },
  {
   "cell_type": "code",
   "execution_count": 3,
   "metadata": {},
   "outputs": [
    {
     "name": "stdout",
     "output_type": "stream",
     "text": [
      "True\n",
      "False\n",
      "False\n"
     ]
    }
   ],
   "source": [
    "### Booleans\n",
    "x = True #booleans are another type of data, they can be True or False\n",
    "\n",
    "print(x)\n",
    "\n",
    "x=3\n",
    "y='3' #here we define a new variable and equate it to the character, not the number, 3\n",
    "\n",
    "print(x == y) #using the == operator, we can check if two data structures are equal to one another.\n",
    "\n",
    "z = x == y # we can also assign the result of a == operator to a new variable,<z>\n",
    "\n",
    "print(z)\n"
   ]
  },
  {
   "cell_type": "code",
   "execution_count": 5,
   "metadata": {},
   "outputs": [
    {
     "name": "stdout",
     "output_type": "stream",
     "text": [
      "1\n",
      "1\n",
      "1.0\n",
      "True\n"
     ]
    }
   ],
   "source": [
    "### Casting\n",
    "\n",
    "#variables can often be cast from one data type to another\n",
    "x_char='1'\n",
    "x_int=int(x_char)\n",
    "x_float=float(x_char) #float is a data type that represents real numbers with a specific number of decimal places\n",
    "x_bool=bool(x_char)\n",
    "print(x)\n",
    "print(x_int)\n",
    "print(x_float)\n",
    "print(x_bool)\n"
   ]
  },
  {
   "cell_type": "code",
   "execution_count": 8,
   "metadata": {},
   "outputs": [
    {
     "name": "stdout",
     "output_type": "stream",
     "text": [
      "3\n",
      "2\n",
      "1\n",
      "2\n",
      "3\n",
      "9\n"
     ]
    }
   ],
   "source": [
    "### Mathematical operations\n",
    "\n",
    "x=2\n",
    "y=1\n",
    "z=x+y\n",
    "print(z)\n",
    "\n",
    "z=x*y\n",
    "print(z)\n",
    "\n",
    "z=x-y\n",
    "print(z)\n",
    "\n",
    "y = y + 1 # can use mathematical operations recursively\n",
    "print(y)\n",
    "\n",
    "y += 1 #a shorter way of writing the same recursive operation\n",
    "        #the same is possible with subtraction, y -= 1, multiplication, y *= 2, \n",
    "        #and division, y /= 4,  \n",
    "print(y)\n",
    "\n",
    "z=y**x # ** is an exponential operator, i.e., y^x\n",
    "print(z)"
   ]
  },
  {
   "cell_type": "code",
   "execution_count": 18,
   "metadata": {},
   "outputs": [
    {
     "name": "stdout",
     "output_type": "stream",
     "text": [
      "1) True False\n",
      "2) False\n",
      "3) True\n",
      "4) True\n"
     ]
    }
   ],
   "source": [
    "### Operators on booleans\n",
    "x=True\n",
    "y = not x # <not> as a negation operator. Since x is True, then not x is False\n",
    "print('1)',x,y) #You can print multiple variables by separating them with a comma\n",
    "\n",
    "print('2)',x and y) # <and> is an operator that evaluates to True if both input variables are True\n",
    "print('3)',x or y ) # <or> is an operator that evaluates to True if just one of the input variables are True\n",
    "\n",
    "print('4)', (x or y) and x ) #multiple boolean operators can be combined together, just make sure to put \n",
    "                        #parenthases around each operator. (x or y) and x is not the same as x or (y and x)\n",
    "\n",
    "# Excercise:\n",
    "# --> Write an a line that evaluates to True and uses x, y, <not>, <or>, uses <and> twice\n"
   ]
  },
  {
   "cell_type": "code",
   "execution_count": 19,
   "metadata": {},
   "outputs": [
    {
     "name": "stdout",
     "output_type": "stream",
     "text": [
      "4\n",
      "477\n"
     ]
    }
   ],
   "source": [
    "### Operators on characters\n",
    "x='4'\n",
    "y='7'\n",
    "z=x+y\n",
    "print(x) #Congratulations you just created a \"string\", i.e., an ordered collection of characters\n",
    "\n",
    "z += y #this will work, but -= won't. Not all operators work for all data types\n",
    "print(z)\n"
   ]
  },
  {
   "cell_type": "code",
   "execution_count": 1,
   "metadata": {},
   "outputs": [
    {
     "name": "stdout",
     "output_type": "stream",
     "text": [
      "/path/to/my/file.nii.gz\n",
      "/ p a t h\n"
     ]
    }
   ],
   "source": [
    "### Strings\n",
    "# Strings are very useful. Used to represent filenames\n",
    "x='/path/to/my/file.nii.gz'\n",
    "print(x)\n",
    "\n",
    "#There are lots of special functions for manipulating strings, but to start \n",
    "#it's enough to know that individual characters in strings can be referenced as follows:  \n",
    "\n",
    "print(x[0],x[1],x[2],x[3],x[4])\n",
    "\n",
    "#Note that in Python, like most programming languages, we begin counting at 0 not 1. So the first element\n",
    "#in a string is at 0.\n"
   ]
  },
  {
   "cell_type": "code",
   "execution_count": null,
   "metadata": {},
   "outputs": [],
   "source": [
    "### Lists\n",
    "# Whereas strings are collections of characters, lists are collections of any type.\n",
    "# Lists are defined using \"[\" and \"]\"\n",
    "list_int = [0,1,2]\n",
    "print(list_int)\n",
    "\n",
    "list_char=[\"a\", \"b\", \"c\"]\n",
    "print(list_char)\n",
    "\n",
    "list_bool=[True, True, False]\n",
    "print(list_bool)\n",
    "\n",
    "#Lists can contain multiple data types\n",
    "list_mixed=[0,'b',False]\n",
    "print(list_mixed)\n",
    "\n",
    "#As with strings, lists can be indexed to retrieve specific elements\n",
    "print(list_mixed[0],list_mixed[1],list_mixed[2])\n",
    "\n",
    "#You can even create lists of lists...\n",
    "#---> Create a list containing sub-lists. How would you reference elements from this list of lists? \n",
    "\n"
   ]
  },
  {
   "cell_type": "code",
   "execution_count": 3,
   "metadata": {},
   "outputs": [
    {
     "name": "stdout",
     "output_type": "stream",
     "text": [
      "4443219078\n",
      "555901823\n",
      "4139083489\n",
      "{'a': 1, 1: 'a', 2.3: True}\n"
     ]
    }
   ],
   "source": [
    "### Dictionaries\n",
    "# Dictionaties are different type of collection \n",
    "# Dictionaries have \"keys\" and \"values\"\n",
    "# Dictionaries are defiend using \"{\" and \"}\". Keys and values are declared as : {key0:value0,key1:value1} \n",
    "telephone_numbers = {'Mackenzie':4443219078, 'Stevie':555901823, 'Chris':4139083489}\n",
    "\n",
    "#Unlike lists, which are indexed by entry number, dictionaries are indexed by their keys\n",
    "print(telephone_numbers['Mackenzie'])\n",
    "print(telephone_numbers['Stevie'])\n",
    "print(telephone_numbers['Chris'])\n",
    "\n",
    "#Like lists, dictionaries can use multiple data types, both for keys and values\n",
    "mixed_dictionary={'a':1, 1:'a', 2.3:True}\n",
    "print(mixed_dictionary)\n",
    "\n",
    "# ---> Write your own dictionary with 3 different items"
   ]
  },
  {
   "cell_type": "code",
   "execution_count": 11,
   "metadata": {},
   "outputs": [
    {
     "name": "stdout",
     "output_type": "stream",
     "text": [
      "X is less than Y!\n",
      "We're now outside the if-statment. x is now = 1\n"
     ]
    }
   ],
   "source": [
    "### If-statements\n",
    "# By default, the code will be executed sequentially from the first line to the last\n",
    "# However, it's often necessary to have a more complicated execution of the code\n",
    "# Sometimes some lines don't need to be executed or need to be executed multiple times\n",
    "# This is refered to as \"flow of control\"\n",
    "\n",
    "#If-statements let you control if lines of code will be executed based on a condition\n",
    "\n",
    "# if condition :\n",
    "#     do some stuff\n",
    "x=0\n",
    "y=1\n",
    "if x < y :\n",
    "    print('X is less than Y!')\n",
    "\n",
    "    x += 1 # This augments <x> by 1 and is still part of the if statement\n",
    "    \n",
    "print(\"We're now outside the if-statment. x is now =\",x)\n",
    "    \n",
    "\n"
   ]
  },
  {
   "cell_type": "code",
   "execution_count": null,
   "metadata": {},
   "outputs": [],
   "source": [
    "#Note that after an if-statement, Python expects a tab indentation\n",
    "#everything that is one tab further than the \"if\" will be run if the condition is met\n",
    "\n",
    "# Slightly more complicated if-statement\n",
    "if x < y :\n",
    "    print('X is still less than Y!')\n",
    "else :\n",
    "    print('Y is now no longer greater than X!')"
   ]
  },
  {
   "cell_type": "code",
   "execution_count": 6,
   "metadata": {},
   "outputs": [
    {
     "name": "stdout",
     "output_type": "stream",
     "text": [
      "x equals 1\n"
     ]
    }
   ],
   "source": [
    "# We can do even more complicated if-statments using \"elif\".\n",
    "# \"elif\" let's you evaluate one of more further conditions\n",
    "\n",
    "if x == 0 :\n",
    "    print('x equals 0')\n",
    "elif x == 1 :\n",
    "    print('x equals 1')\n",
    "elif x == 2 :\n",
    "    print('x equals 2')\n",
    "else :\n",
    "    print(\"x doesn't equal 0, 1, or 2\")\n"
   ]
  },
  {
   "cell_type": "code",
   "execution_count": 15,
   "metadata": {},
   "outputs": [
    {
     "name": "stdout",
     "output_type": "stream",
     "text": [
      "1.6666666666666667 2 0.6666666666666666\n"
     ]
    }
   ],
   "source": [
    "# the \"%\" operator returns the remainder after division\n",
    "# 2 % 2 == 0\n",
    "# 3 % 2 == 1\n",
    "# 4 % 2 == 0\n",
    "# 5 % 2 == 1\n",
    "\n",
    "# ----> write an if-statement to determine if an integer, x, is even\n",
    "x = #set this to your favorite integer\n"
   ]
  },
  {
   "cell_type": "code",
   "execution_count": 19,
   "metadata": {},
   "outputs": [
    {
     "name": "stdout",
     "output_type": "stream",
     "text": [
      "x= 5\n",
      "x= 5\n"
     ]
    }
   ],
   "source": [
    "### Loops\n",
    "# for-loops let you run multiple lines of code repeatedly\n",
    "# loops are another way define the \"flow of control\" of the execution of the code\n",
    "# instead of writing :\n",
    "#\n",
    "x=0\n",
    "x += 1\n",
    "x += 1\n",
    "x += 1\n",
    "x += 1\n",
    "x += 1\n",
    "print('x =',x)\n",
    "# you can write :\n",
    "x = 0 \n",
    "for i in range(5):  \n",
    "     x+=1    \n",
    "print('x =',x)\n",
    "\n",
    "# what is range? it's a simple function that takes an argument (or input), n. \n",
    "# it returns a list of number from 0 to n-1, e.g. range(5) = [0,1,2,3,4]\n",
    "\n",
    "## a for-loop repeats the indented lines of code for each element in a collection\n",
    "# for <one of more variables> in <a collection of objects>:\n",
    "#     do some stuff"
   ]
  },
  {
   "cell_type": "code",
   "execution_count": 21,
   "metadata": {},
   "outputs": [
    {
     "name": "stdout",
     "output_type": "stream",
     "text": [
      "a\n",
      "b\n",
      "c\n",
      "Done first for-loop\n",
      "False\n",
      "1\n",
      "c\n",
      "Done with the second for-loop\n",
      "[1, 2]\n",
      "['b', 'c']\n",
      "[True, False]\n"
     ]
    }
   ],
   "source": [
    "list_of_items = ['a','b','c']\n",
    "for var in list_of_items :\n",
    "    print(var)\n",
    "print('Done first for-loop')\n",
    "\n",
    "another_list = [False, 1, 'c']\n",
    "for x in another_list :\n",
    "    print(x)\n",
    "print('Done with the second for-loop')\n",
    "\n",
    "a_list_of_lists=[[1,2],['b','c'],[True,False]]\n",
    "for y in a_list_of_lists :\n",
    "    print(y)\n",
    "print('Done with third for-loop')"
   ]
  },
  {
   "cell_type": "code",
   "execution_count": null,
   "metadata": {},
   "outputs": [],
   "source": [
    "# ----> write a for-loop over a list of integers and check if they are even\n",
    "list_of_integers = \n"
   ]
  }
 ],
 "metadata": {
  "kernelspec": {
   "display_name": "Python 3",
   "language": "python",
   "name": "python3"
  },
  "language_info": {
   "codemirror_mode": {
    "name": "ipython",
    "version": 3
   },
   "file_extension": ".py",
   "mimetype": "text/x-python",
   "name": "python",
   "nbconvert_exporter": "python",
   "pygments_lexer": "ipython3",
   "version": "3.6.9"
  }
 },
 "nbformat": 4,
 "nbformat_minor": 2
}
