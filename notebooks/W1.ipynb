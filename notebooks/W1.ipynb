{
 "cells": [
  {
   "cell_type": "code",
   "execution_count": null,
   "metadata": {},
   "outputs": [],
   "source": [
    "# Programming is about writing instructions that can be executed by a computer and read by human beings.\n",
    "\n",
    "# Data and functions that manipulate data\n"
   ]
  },
  {
   "cell_type": "code",
   "execution_count": 2,
   "metadata": {},
   "outputs": [
    {
     "name": "stdout",
     "output_type": "stream",
     "text": [
      "1\n",
      "2\n",
      "3\n"
     ]
    }
   ],
   "source": [
    "### Variables and integers\n",
    "\n",
    "# variables are the most basic data structure. \n",
    "\n",
    "x = 1 #here set <x> to equal the integer 1\n",
    "\n",
    "print(x) #print is a function that displays the value of a variable or other data types\n",
    "\n",
    "x = 2 #here we modify the variable <x> to equal the integer 2\n",
    "\n",
    "print(x)"
   ]
  },
  {
   "cell_type": "code",
   "execution_count": null,
   "metadata": {},
   "outputs": [],
   "source": [
    "### Characters\n",
    "# variables can point to different types of data\n",
    "\n",
    "x = 'c' #instead of pointing to an integer, the variable now points to a character, 'c'\n",
    "\n",
    "print(x)"
   ]
  },
  {
   "cell_type": "code",
   "execution_count": 3,
   "metadata": {},
   "outputs": [
    {
     "name": "stdout",
     "output_type": "stream",
     "text": [
      "True\n",
      "False\n",
      "False\n"
     ]
    }
   ],
   "source": [
    "### Booleans\n",
    "x = True #booleans are another type of data, they can be True or False\n",
    "\n",
    "print(x)\n",
    "\n",
    "x=3\n",
    "y='3' #here we define a new variable and equate it to the character, not the number, 3\n",
    "\n",
    "print(x == y) #using the == operator, we can check if two data structures are equal to one another.\n",
    "\n",
    "z = x == y # we can also assign the result of a == operator to a new variable,<z>\n",
    "\n",
    "print(z)\n"
   ]
  },
  {
   "cell_type": "code",
   "execution_count": 5,
   "metadata": {},
   "outputs": [
    {
     "name": "stdout",
     "output_type": "stream",
     "text": [
      "1\n",
      "1\n",
      "1.0\n",
      "True\n"
     ]
    }
   ],
   "source": [
    "### Casting\n",
    "\n",
    "#variables can often be cast from one data type to another\n",
    "x_char='1'\n",
    "x_int=int(x_char)\n",
    "x_float=float(x_char) #float is a data type that represents real numbers with a specific number of decimal places\n",
    "x_bool=bool(x_char)\n",
    "print(x)\n",
    "print(x_int)\n",
    "print(x_float)\n",
    "print(x_bool)\n"
   ]
  },
  {
   "cell_type": "code",
   "execution_count": 8,
   "metadata": {},
   "outputs": [
    {
     "name": "stdout",
     "output_type": "stream",
     "text": [
      "3\n",
      "2\n",
      "1\n",
      "2\n",
      "3\n",
      "9\n"
     ]
    }
   ],
   "source": [
    "### Mathematical operations\n",
    "\n",
    "x=2\n",
    "y=1\n",
    "z=x+y\n",
    "print(z)\n",
    "\n",
    "z=x*y\n",
    "print(z)\n",
    "\n",
    "z=x-y\n",
    "print(z)\n",
    "\n",
    "y = y + 1 # can use mathematical operations recursively\n",
    "print(y)\n",
    "\n",
    "y += 1 #a shorter way of writing the same recursive operation\n",
    "        #the same is possible with subtraction, y -= 1, multiplication, y *= 2, \n",
    "        #and division, y /= 4,  \n",
    "print(y)\n",
    "\n",
    "z=y**x # ** is an exponential operator, i.e., y^x\n",
    "print(z)"
   ]
  },
  {
   "cell_type": "code",
   "execution_count": 18,
   "metadata": {},
   "outputs": [
    {
     "name": "stdout",
     "output_type": "stream",
     "text": [
      "1) True False\n",
      "2) False\n",
      "3) True\n",
      "4) True\n"
     ]
    }
   ],
   "source": [
    "### Operators on booleans\n",
    "x=True\n",
    "y = not x # <not> as a negation operator. Since x is True, then not x is False\n",
    "print('1)',x,y) #You can print multiple variables by separating them with a comma\n",
    "\n",
    "print('2)',x and y) # <and> is an operator that evaluates to True if both input variables are True\n",
    "print('3)',x or y ) # <or> is an operator that evaluates to True if just one of the input variables are True\n",
    "\n",
    "print('4)', (x or y) and x ) #multiple boolean operators can be combined together, just make sure to put \n",
    "                        #parenthases around each operator. (x or y) and x is not the same as x or (y and x)\n",
    "\n",
    "# Excercise:\n",
    "# --> Write an a line that evaluates to True and uses x, y, <not>, <or>, uses <and> twice\n"
   ]
  },
  {
   "cell_type": "code",
   "execution_count": 15,
   "metadata": {},
   "outputs": [
    {
     "name": "stdout",
     "output_type": "stream",
     "text": [
      "4\n",
      "477\n",
      "True -2\n",
      "0\n"
     ]
    }
   ],
   "source": [
    "### Operators on characters\n",
    "x='4'\n",
    "y='7'\n",
    "z=x+y\n",
    "print(x) #Congratulations you just created a \"string\", i.e., an ordered collection of characters\n",
    "\n",
    "z += y #this will work, but -= won't. Not all operators work for all data types\n",
    "print(z)\n",
    "\n",
    "\n"
   ]
  },
  {
   "cell_type": "code",
   "execution_count": null,
   "metadata": {},
   "outputs": [],
   "source": []
  }
 ],
 "metadata": {
  "kernelspec": {
   "display_name": "Python 3",
   "language": "python",
   "name": "python3"
  },
  "language_info": {
   "codemirror_mode": {
    "name": "ipython",
    "version": 3
   },
   "file_extension": ".py",
   "mimetype": "text/x-python",
   "name": "python",
   "nbconvert_exporter": "python",
   "pygments_lexer": "ipython3",
   "version": "3.6.9"
  }
 },
 "nbformat": 4,
 "nbformat_minor": 2
}
