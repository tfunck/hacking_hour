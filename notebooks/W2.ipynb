{
 "cells": [
  {
   "cell_type": "code",
   "execution_count": 19,
   "metadata": {},
   "outputs": [
    {
     "name": "stdout",
     "output_type": "stream",
     "text": [
      "4\n",
      "477\n"
     ]
    }
   ],
   "source": [
    "### Operators on characters\n",
    "x='4'\n",
    "y='7'\n",
    "z=x+y\n",
    "print(x) #Congratulations you just created a \"string\", i.e., an ordered collection of characters\n",
    "\n",
    "z += y #this will work, but -= won't. Not all operators work for all data types\n",
    "print(z)\n"
   ]
  },
  {
   "cell_type": "code",
   "execution_count": 1,
   "metadata": {},
   "outputs": [
    {
     "name": "stdout",
     "output_type": "stream",
     "text": [
      "/path/to/my/file.nii.gz\n",
      "/ p a t h\n"
     ]
    }
   ],
   "source": [
    "### Strings\n",
    "# Strings are very useful. Used to represent filenames\n",
    "x='/path/to/my/file.nii.gz'\n",
    "print(x)\n",
    "\n",
    "#There are lots of special functions for manipulating strings, but to start \n",
    "#it's enough to know that individual characters in strings can be referenced as follows:  \n",
    "\n",
    "print(x[0],x[1],x[2],x[3],x[4])\n",
    "\n",
    "#Note that in Python, like most programming languages, we begin counting at 0 not 1. So the first element\n",
    "#in a string is at 0.\n"
   ]
  },
  {
   "cell_type": "code",
   "execution_count": null,
   "metadata": {},
   "outputs": [],
   "source": [
    "### Lists\n",
    "# Whereas strings are collections of characters, lists are collections of any type.\n",
    "# Lists are defined using \"[\" and \"]\"\n",
    "list_int = [0,1,2]\n",
    "print(list_int)\n",
    "\n",
    "list_char=[\"a\", \"b\", \"c\"]\n",
    "print(list_char)\n",
    "\n",
    "list_bool=[True, True, False]\n",
    "print(list_bool)\n",
    "\n",
    "#Lists can contain multiple data types\n",
    "list_mixed=[0,'b',False]\n",
    "print(list_mixed)\n",
    "\n",
    "#As with strings, lists can be indexed to retrieve specific elements\n",
    "print(list_mixed[0],list_mixed[1],list_mixed[2])\n",
    "\n",
    "#You can even create lists of lists..."
   ]
  },
  {
   "cell_type": "code",
   "execution_count": null,
   "metadata": {},
   "outputs": [],
   "source": [
    "### EXERCISE: Create a list containing sub-lists. How would you reference elements from this list of lists? "
   ]
  },
  {
   "cell_type": "code",
   "execution_count": 3,
   "metadata": {},
   "outputs": [
    {
     "name": "stdout",
     "output_type": "stream",
     "text": [
      "4443219078\n",
      "555901823\n",
      "4139083489\n",
      "{'a': 1, 1: 'a', 2.3: True}\n"
     ]
    }
   ],
   "source": [
    "### Dictionaries\n",
    "# Dictionaties are different type of collection \n",
    "# Dictionaries have \"keys\" and \"values\"\n",
    "# Dictionaries are defiend using \"{\" and \"}\". Keys and values are declared as : {key0:value0,key1:value1} \n",
    "telephone_numbers = {'Mackenzie':4443219078, 'Stevie':555901823, 'Chris':4139083489}\n",
    "\n",
    "#Unlike lists, which are indexed by entry number, dictionaries are indexed by their keys\n",
    "print(telephone_numbers['Mackenzie'])\n",
    "print(telephone_numbers['Stevie'])\n",
    "print(telephone_numbers['Chris'])\n",
    "\n",
    "#Like lists, dictionaries can use multiple data types, both for keys and values\n",
    "mixed_dictionary={'a':1, 1:'a', 2.3:True}\n",
    "print(mixed_dictionary)\n",
    "\n"
   ]
  },
  {
   "cell_type": "code",
   "execution_count": null,
   "metadata": {},
   "outputs": [],
   "source": [
    "### EXERCISE: Write your own dictionary with 3 different items"
   ]
  },
  {
   "cell_type": "code",
   "execution_count": 11,
   "metadata": {},
   "outputs": [
    {
     "name": "stdout",
     "output_type": "stream",
     "text": [
      "X is less than Y!\n",
      "We're now outside the if-statment. x is now = 1\n"
     ]
    }
   ],
   "source": [
    "### If-statements\n",
    "# By default, the code will be executed sequentially from the first line to the last\n",
    "# However, it's often necessary to have a more complicated execution of the code\n",
    "# Sometimes some lines don't need to be executed or need to be executed multiple times\n",
    "# This is refered to as \"flow of control\"\n",
    "\n",
    "#If-statements let you control if lines of code will be executed based on a condition\n",
    "\n",
    "# if condition :\n",
    "#     do some stuff\n",
    "x=0\n",
    "y=1\n",
    "if x < y :\n",
    "    print('X is less than Y!')\n",
    "\n",
    "    x += 1 # This augments <x> by 1 and is still part of the if statement\n",
    "    \n",
    "print(\"We're now outside the if-statment. x is now =\",x)\n",
    "    \n",
    "\n"
   ]
  },
  {
   "cell_type": "code",
   "execution_count": null,
   "metadata": {},
   "outputs": [],
   "source": [
    "#Note that after an if-statement, Python expects a tab indentation\n",
    "#everything that is one tab further than the \"if\" will be run if the condition is met\n",
    "\n",
    "# Slightly more complicated if-statement\n",
    "if x < y :\n",
    "    print('X is still less than Y!')\n",
    "else :\n",
    "    print('Y is now no longer greater than X!')"
   ]
  },
  {
   "cell_type": "code",
   "execution_count": 6,
   "metadata": {},
   "outputs": [
    {
     "name": "stdout",
     "output_type": "stream",
     "text": [
      "x equals 1\n"
     ]
    }
   ],
   "source": [
    "# We can do even more complicated if-statments using \"elif\".\n",
    "# \"elif\" let's you evaluate one of more further conditions\n",
    "\n",
    "if x == 0 :\n",
    "    print('x equals 0')\n",
    "elif x == 1 :\n",
    "    print('x equals 1')\n",
    "elif x == 2 :\n",
    "    print('x equals 2')\n",
    "else :\n",
    "    print(\"x doesn't equal 0, 1, or 2\")\n"
   ]
  },
  {
   "cell_type": "code",
   "execution_count": 15,
   "metadata": {},
   "outputs": [
    {
     "name": "stdout",
     "output_type": "stream",
     "text": [
      "1.6666666666666667 2 0.6666666666666666\n"
     ]
    }
   ],
   "source": [
    "\n",
    "\n"
   ]
  },
  {
   "cell_type": "code",
   "execution_count": null,
   "metadata": {},
   "outputs": [],
   "source": [
    "### EXCERCISE: write an if-statement to determine if an integer, x, is even\n",
    "# HINT:\n",
    "#     the \"%\" operator returns the remainder after division\n",
    "#     2 % 2 == 0\n",
    "#     3 % 2 == 1\n",
    "#     4 % 2 == 0\n",
    "#     5 % 2 == 1\n",
    "\n",
    "\n",
    "x = #set this to your favorite integer"
   ]
  },
  {
   "cell_type": "code",
   "execution_count": 5,
   "metadata": {},
   "outputs": [
    {
     "name": "stdout",
     "output_type": "stream",
     "text": [
      "x = 32\n",
      "x = 32\n"
     ]
    }
   ],
   "source": [
    "### Loops\n",
    "# for-loops let you run multiple lines of code repeatedly\n",
    "# loops are another way define the \"flow of control\" of the execution of the code\n",
    "# instead of writing :\n",
    "#\n",
    "x=1\n",
    "x += x\n",
    "x += x\n",
    "x += x\n",
    "x += x\n",
    "x += x\n",
    "print('x =',x)\n",
    "# you can write :\n",
    "x = 1 \n",
    "for i in range(5):  \n",
    "     x+=x    \n",
    "print('x =',x)\n",
    "\n",
    "# what is \"range\"? it's a simple function that takes an argument (or input), n. \n",
    "# it returns a list of number from 0 to n-1, e.g. range(5) = [0,1,2,3,4]\n",
    "\n",
    "## a for-loop repeats the indented lines of code for each element in a collection\n",
    "# for <one of more variables> in <a collection of objects>:\n",
    "#     do some stuff"
   ]
  },
  {
   "cell_type": "code",
   "execution_count": 9,
   "metadata": {},
   "outputs": [
    {
     "name": "stdout",
     "output_type": "stream",
     "text": [
      "a\n",
      "b\n",
      "c\n"
     ]
    }
   ],
   "source": [
    "# you can use for loops to iterate over collections, like lists\n",
    "list_of_items = ['a','b','c']\n",
    "for var in list_of_items :\n",
    "    print(var)"
   ]
  },
  {
   "cell_type": "code",
   "execution_count": 10,
   "metadata": {},
   "outputs": [
    {
     "name": "stdout",
     "output_type": "stream",
     "text": [
      "False\n",
      "1\n",
      "c\n"
     ]
    }
   ],
   "source": [
    "# as before, the list can be made up of different data types\n",
    "another_list = [False, 1, 'c']\n",
    "for x in another_list :\n",
    "    print(x)"
   ]
  },
  {
   "cell_type": "code",
   "execution_count": 11,
   "metadata": {},
   "outputs": [
    {
     "name": "stdout",
     "output_type": "stream",
     "text": [
      "y =  [1, 2]\n",
      "z = 1\n",
      "z = 2\n",
      "y =  ['b', 'c']\n",
      "z = b\n",
      "z = c\n",
      "y =  [True, False]\n",
      "z = True\n",
      "z = False\n"
     ]
    }
   ],
   "source": [
    "#You can also iterate over collections of collections, e.g., lists of lists\n",
    "a_list_of_lists=[[1,2],['b','c'],[True,False]]\n",
    "for y in a_list_of_lists :\n",
    "    print('y = ', y)\n",
    "    #here we have a for-loop embedded within another for-loop\n",
    "    for z in y:\n",
    "        print('z =', z)\n"
   ]
  },
  {
   "cell_type": "code",
   "execution_count": null,
   "metadata": {},
   "outputs": [],
   "source": [
    "# ----> write a for-loop over a list of integers and check if they are even\n",
    "list_of_integers = '''<your list here>'''\n",
    "for ... '''your for-loop here'''\n",
    "    '''some if-statmenets to check the integers'''"
   ]
  },
  {
   "cell_type": "code",
   "execution_count": 17,
   "metadata": {},
   "outputs": [
    {
     "name": "stdout",
     "output_type": "stream",
     "text": [
      "4\n"
     ]
    }
   ],
   "source": [
    "### Functions\n",
    "# functions are ways of packaging code together so that it's easily reusable\n",
    "# functions are defined using \"def\"\n",
    "#\n",
    "# function format:\n",
    "# def <your function name> (<arguments to function>) :\n",
    "#     <your code, with a tab-indent to show its part of the function>\n",
    "#     .\n",
    "#     .\n",
    "#     .\n",
    "#     return <the function outputs>\n",
    "a=0\n",
    "def squared(x): #define a function, \"square\", with a single input \"x\"\n",
    "    y = x * x # multiply x by itself\n",
    "    return y # define \"x\" as the output of the function\n",
    "\n",
    "z = squared(2)\n"
   ]
  },
  {
   "cell_type": "code",
   "execution_count": 20,
   "metadata": {},
   "outputs": [
    {
     "name": "stdout",
     "output_type": "stream",
     "text": [
      "3^3 = 27\n",
      "9^0.5 = (3.0, -3.0)\n"
     ]
    }
   ],
   "source": [
    "# functions can have multiple inputs and outputs\n",
    "\n",
    "def power(x,y):\n",
    "    z = x ** y\n",
    "    return z\n",
    "print(\"3^3 =\", power(3,3))\n",
    "\n",
    "def squareRoot(x):\n",
    "    y=x**0.5\n",
    "    return y, -y\n",
    "\n",
    "print(\"9^0.5 =\", squareRoot(9))\n"
   ]
  },
  {
   "cell_type": "code",
   "execution_count": 25,
   "metadata": {},
   "outputs": [
    {
     "ename": "UnboundLocalError",
     "evalue": "local variable 'local_1' referenced before assignment",
     "output_type": "error",
     "traceback": [
      "\u001b[0;31m---------------------------------------------------------------------------\u001b[0m",
      "\u001b[0;31mUnboundLocalError\u001b[0m                         Traceback (most recent call last)",
      "\u001b[0;32m<ipython-input-25-5296cf9701c8>\u001b[0m in \u001b[0;36m<module>\u001b[0;34m\u001b[0m\n\u001b[1;32m     10\u001b[0m     \u001b[0mlocal_1\u001b[0m \u001b[0;34m+=\u001b[0m \u001b[0;36m1\u001b[0m\u001b[0;34m\u001b[0m\u001b[0;34m\u001b[0m\u001b[0m\n\u001b[1;32m     11\u001b[0m \u001b[0;34m\u001b[0m\u001b[0m\n\u001b[0;32m---> 12\u001b[0;31m \u001b[0mdummy_function\u001b[0m\u001b[0;34m(\u001b[0m\u001b[0;34m)\u001b[0m\u001b[0;34m\u001b[0m\u001b[0;34m\u001b[0m\u001b[0m\n\u001b[0m\u001b[1;32m     13\u001b[0m \u001b[0;31m# Solution is to add local_1 as an input to \"dummy_function\"\u001b[0m\u001b[0;34m\u001b[0m\u001b[0;34m\u001b[0m\u001b[0;34m\u001b[0m\u001b[0m\n\u001b[1;32m     14\u001b[0m \u001b[0;32mdef\u001b[0m \u001b[0mdummy_function\u001b[0m\u001b[0;34m(\u001b[0m\u001b[0mlocal_1\u001b[0m\u001b[0;34m)\u001b[0m\u001b[0;34m:\u001b[0m\u001b[0;34m\u001b[0m\u001b[0;34m\u001b[0m\u001b[0m\n",
      "\u001b[0;32m<ipython-input-25-5296cf9701c8>\u001b[0m in \u001b[0;36mdummy_function\u001b[0;34m()\u001b[0m\n\u001b[1;32m      8\u001b[0m \u001b[0mlocal_1\u001b[0m\u001b[0;34m=\u001b[0m\u001b[0;36m1\u001b[0m\u001b[0;34m\u001b[0m\u001b[0;34m\u001b[0m\u001b[0m\n\u001b[1;32m      9\u001b[0m \u001b[0;32mdef\u001b[0m \u001b[0mdummy_function\u001b[0m\u001b[0;34m(\u001b[0m\u001b[0;34m)\u001b[0m\u001b[0;34m:\u001b[0m \u001b[0;31m#note that inputs can have no inputs and no outputs\u001b[0m\u001b[0;34m\u001b[0m\u001b[0;34m\u001b[0m\u001b[0m\n\u001b[0;32m---> 10\u001b[0;31m     \u001b[0mlocal_1\u001b[0m \u001b[0;34m+=\u001b[0m \u001b[0;36m1\u001b[0m\u001b[0;34m\u001b[0m\u001b[0;34m\u001b[0m\u001b[0m\n\u001b[0m\u001b[1;32m     11\u001b[0m \u001b[0;34m\u001b[0m\u001b[0m\n\u001b[1;32m     12\u001b[0m \u001b[0mdummy_function\u001b[0m\u001b[0;34m(\u001b[0m\u001b[0;34m)\u001b[0m\u001b[0;34m\u001b[0m\u001b[0;34m\u001b[0m\u001b[0m\n",
      "\u001b[0;31mUnboundLocalError\u001b[0m: local variable 'local_1' referenced before assignment"
     ]
    }
   ],
   "source": [
    "### Variable scope\n",
    "# there are two basic types of variables: global and local\n",
    "# global variables can be used anywhere in your code\n",
    "# local variables only exist within a defined \"scope\"\n",
    "\n",
    "# This will give an error, because \"local_1\" is defined outside of the \"scope\" of \"dummy_function\"\n",
    "# So \"dummy_function\" can't see or doesn't have access to \"local_1\" and can't update it\n",
    "local_1=1\n",
    "def dummy_function(): #note that inputs can have no inputs and no outputs, by default functions return \"None\"\n",
    "    local_1 += 1\n",
    "\n",
    "dummy_function()\n"
   ]
  },
  {
   "cell_type": "code",
   "execution_count": 33,
   "metadata": {},
   "outputs": [
    {
     "name": "stdout",
     "output_type": "stream",
     "text": [
      "Before function: 1\n",
      "Inside function 2\n",
      "After function: 1\n",
      "After dummy_function_2: 2\n"
     ]
    }
   ],
   "source": [
    "# Solution is to add local_1 as an input to \"dummy_function\"\n",
    "def dummy_function(local_1):\n",
    "    local_1+=1\n",
    "    print('Inside function', local_1)\n",
    "    \n",
    "another_variable=1 \n",
    "print('Before function:', another_variable)\n",
    "dummy_function(another_variable) #note that the input that is passed to the function doesn't have to have the \n",
    "                                 #same name as is used in the function definition\n",
    "\n",
    "print('After function:', another_variable) #the variable isn't changed by what happens in the function!!!\n",
    "                                           # the function must return a new value and assign it to the variable\n",
    "                                           #to change it's value\n",
    "        \n",
    "def dummy_function_2(local_1):\n",
    "    local_1+=1\n",
    "    return local_1\n",
    "\n",
    "another_variable = dummy_function_2(another_variable)\n",
    "print('After dummy_function_2:', another_variable)"
   ]
  },
  {
   "cell_type": "code",
   "execution_count": 29,
   "metadata": {},
   "outputs": [
    {
     "ename": "NameError",
     "evalue": "name 'local_2' is not defined",
     "output_type": "error",
     "traceback": [
      "\u001b[0;31m---------------------------------------------------------------------------\u001b[0m",
      "\u001b[0;31mNameError\u001b[0m                                 Traceback (most recent call last)",
      "\u001b[0;32m<ipython-input-29-d743e5cd5bbc>\u001b[0m in \u001b[0;36m<module>\u001b[0;34m\u001b[0m\n\u001b[1;32m      3\u001b[0m \u001b[0;32mdef\u001b[0m \u001b[0mdummy_function\u001b[0m\u001b[0;34m(\u001b[0m\u001b[0;34m)\u001b[0m\u001b[0;34m:\u001b[0m\u001b[0;34m\u001b[0m\u001b[0;34m\u001b[0m\u001b[0m\n\u001b[1;32m      4\u001b[0m     \u001b[0mlocal_2\u001b[0m \u001b[0;34m=\u001b[0m \u001b[0;36m2\u001b[0m\u001b[0;34m\u001b[0m\u001b[0;34m\u001b[0m\u001b[0m\n\u001b[0;32m----> 5\u001b[0;31m \u001b[0mprint\u001b[0m\u001b[0;34m(\u001b[0m\u001b[0mlocal_2\u001b[0m\u001b[0;34m)\u001b[0m\u001b[0;34m\u001b[0m\u001b[0;34m\u001b[0m\u001b[0m\n\u001b[0m",
      "\u001b[0;31mNameError\u001b[0m: name 'local_2' is not defined"
     ]
    }
   ],
   "source": [
    "#Similarly, local_2 is defined inside of \"dummy_function\" and so can only be used inside the function.\n",
    "\n",
    "def dummy_function(): \n",
    "    local_2 = 2\n",
    "print(local_2)"
   ]
  },
  {
   "cell_type": "code",
   "execution_count": 46,
   "metadata": {},
   "outputs": [
    {
     "name": "stdout",
     "output_type": "stream",
     "text": [
      "Before function: Hello\n",
      "After function: Hello Brave New World\n"
     ]
    }
   ],
   "source": [
    "# To create a \"global\" variable that can be used anywhere in the code, \n",
    "# you can use <global> when defining the variable\n",
    "global global_1\n",
    "global global_2\n",
    "global_1='Hello'\n",
    "global_2=' Brave New'\n",
    "\n",
    "def dummy_function():\n",
    "    global global_1 # have to declare the variable as global so that python doesn't think it's local\n",
    "    global_1 += global_2 + ' World'\n",
    "    \n",
    "print('Before function:',global_1)\n",
    "dummy_function()\n",
    "print('After function:', global_1)\n",
    "\n",
    "# Note: Don't use global variables unless you're 100% sure it's the only way to do what you want.\n",
    "#       Using global variables can cause lots of problems because it's really hard to keep track\n",
    "#       of what's being modified where."
   ]
  },
  {
   "cell_type": "code",
   "execution_count": null,
   "metadata": {},
   "outputs": [],
   "source": []
  }
 ],
 "metadata": {
  "kernelspec": {
   "display_name": "Python 3",
   "language": "python",
   "name": "python3"
  },
  "language_info": {
   "codemirror_mode": {
    "name": "ipython",
    "version": 3
   },
   "file_extension": ".py",
   "mimetype": "text/x-python",
   "name": "python",
   "nbconvert_exporter": "python",
   "pygments_lexer": "ipython3",
   "version": "3.6.9"
  }
 },
 "nbformat": 4,
 "nbformat_minor": 2
}
