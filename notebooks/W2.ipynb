{
  "nbformat": 4,
  "nbformat_minor": 0,
  "metadata": {
    "kernelspec": {
      "display_name": "Python 3",
      "language": "python",
      "name": "python3"
    },
    "language_info": {
      "codemirror_mode": {
        "name": "ipython",
        "version": 3
      },
      "file_extension": ".py",
      "mimetype": "text/x-python",
      "name": "python",
      "nbconvert_exporter": "python",
      "pygments_lexer": "ipython3",
      "version": "3.6.9"
    },
    "colab": {
      "name": "W2.ipynb",
      "provenance": []
    }
  },
  "cells": [
    {
      "cell_type": "code",
      "metadata": {
        "id": "yM4m3PTlWnx1",
        "outputId": "a7cb41bc-d95b-4eae-8e3e-d2db13dae8ac",
        "colab": {
          "base_uri": "https://localhost:8080/"
        }
      },
      "source": [
        "### \"Type\" function\n",
        "\n",
        "# variables can have one of many different data types: int, float, char, boolean\n",
        "# the \"type\" function returns a variable's data type\n",
        "\n",
        "x_char='1'\n",
        "x_int=1\n",
        "x_float=1.\n",
        "x_bool=True\n",
        "\n",
        "print(x_char, 'is a', type(x_char))\n",
        "print(x_int, 'is a', type(x_int))\n",
        "print(x_float, 'is a', type(x_float))\n",
        "print(x_bool, 'is a', type(x_bool))\n"
      ],
      "execution_count": 5,
      "outputs": [
        {
          "output_type": "stream",
          "text": [
            "1 is a <class 'str'>\n",
            "1 is a <class 'int'>\n",
            "1.0 is a <class 'float'>\n",
            "True is a <class 'bool'>\n"
          ],
          "name": "stdout"
        }
      ]
    },
    {
      "cell_type": "code",
      "metadata": {
        "id": "Xya0b-NNXTWU",
        "outputId": "7ef11727-490e-4972-c997-2ee1165a5b74",
        "colab": {
          "base_uri": "https://localhost:8080/"
        }
      },
      "source": [
        "# you can use the \"type()\" function with \"==\" to check a variables type\n",
        "x_char='1'\n",
        "x_int=1\n",
        "x_float=1.\n",
        "x_bool=True\n",
        "\n",
        "print('x_int is an int:', type(x_int) == int )\n",
        "print('x_int is a float:', type(x_int) == float )"
      ],
      "execution_count": 9,
      "outputs": [
        {
          "output_type": "stream",
          "text": [
            "x_int is an int: True\n",
            "x_int is a float: False\n"
          ],
          "name": "stdout"
        }
      ]
    },
    {
      "cell_type": "code",
      "metadata": {
        "id": "SrC9a8GHRA2R",
        "outputId": "b6a17bcf-0f77-4634-db4b-7196d4f536e3"
      },
      "source": [
        "### Operators on characters\n",
        "x='4'\n",
        "y='7'\n",
        "z=x+y\n",
        "print('a simple string:', x) #Congratulations you just created a \"string\", i.e., an ordered collection of characters\n",
        "\n",
        "z += y #this will work, but -= won't. Not all operators work for all data types\n",
        "print('another simple string', z)\n"
      ],
      "execution_count": null,
      "outputs": [
        {
          "output_type": "stream",
          "text": [
            "4\n",
            "477\n"
          ],
          "name": "stdout"
        }
      ]
    },
    {
      "cell_type": "code",
      "metadata": {
        "id": "ttQ5fRMSRA2W",
        "outputId": "736f05fa-4801-48db-abc5-2438efd51dd4"
      },
      "source": [
        "### Strings\n",
        "# Strings are very useful. Used to represent filenames\n",
        "x='/path/to/my/file.nii.gz'\n",
        "print(x)\n",
        "\n",
        "#There are lots of special functions for manipulating strings, but to start \n",
        "#it's enough to know that individual characters in strings can be referenced as follows:  \n",
        "\n",
        "print(x[0],x[1],x[2],x[3],x[4])\n",
        "\n",
        "#Note that in Python, like most programming languages, we begin counting at 0 not 1. So the first element\n",
        "#in a string is at 0.\n"
      ],
      "execution_count": null,
      "outputs": [
        {
          "output_type": "stream",
          "text": [
            "/path/to/my/file.nii.gz\n",
            "/ p a t h\n"
          ],
          "name": "stdout"
        }
      ]
    },
    {
      "cell_type": "code",
      "metadata": {
        "id": "GH0O0jb8RA2X"
      },
      "source": [
        "### Lists\n",
        "# Whereas strings are collections of characters, lists are collections of any type.\n",
        "# Lists are defined using \"[\" and \"]\"\n",
        "list_int = [0,1,2]\n",
        "print(list_int)\n",
        "\n",
        "list_char=[\"a\", \"b\", \"c\"]\n",
        "print(list_char)\n",
        "\n",
        "list_bool=[True, True, False]\n",
        "print(list_bool)\n",
        "\n",
        "#Lists can contain multiple data types\n",
        "list_mixed=[0,'b',False]\n",
        "print(list_mixed)\n",
        "\n",
        "#As with strings, lists can be indexed to retrieve specific elements\n",
        "print(list_mixed[0],list_mixed[1],list_mixed[2])\n",
        "\n",
        "#You can even create lists of lists..."
      ],
      "execution_count": null,
      "outputs": []
    },
    {
      "cell_type": "code",
      "metadata": {
        "id": "5KHE_TH9RA2Y"
      },
      "source": [
        "### EXERCISE: Create a list containing sub-lists. How would you reference elements from this list of lists? "
      ],
      "execution_count": null,
      "outputs": []
    },
    {
      "cell_type": "code",
      "metadata": {
        "id": "fTwpEnwxReiM"
      },
      "source": [
        "\n",
        "\n",
        "\n",
        "\n",
        "\n",
        "\n",
        "\n",
        "\n",
        "\n",
        "### SOLUTION:\n",
        "my_list = [[True, 0],['a','abc',2]]\n",
        "print(my_list[0][1])\n",
        "print(my_list[1][1])"
      ],
      "execution_count": null,
      "outputs": []
    },
    {
      "cell_type": "code",
      "metadata": {
        "id": "A_4clfC9RA2Y",
        "outputId": "0b99e88e-ac76-43e8-8e6d-3214d6f3f8a2"
      },
      "source": [
        "### Dictionaries\n",
        "# Dictionaties are different type of collection \n",
        "# Dictionaries have \"keys\" and \"values\"\n",
        "# Dictionaries are defiend using \"{\" and \"}\". Keys and values are declared as : {key0:value0,key1:value1} \n",
        "telephone_numbers = {'Mackenzie':4443219078, 'Stevie':555901823, 'Chris':4139083489}\n",
        "\n",
        "#Unlike lists, which are indexed by entry number, dictionaries are indexed by their keys\n",
        "print(telephone_numbers['Mackenzie'])\n",
        "print(telephone_numbers['Stevie'])\n",
        "print(telephone_numbers['Chris'])\n",
        "\n",
        "#Like lists, dictionaries can use multiple data types, both for keys and values\n",
        "mixed_dictionary={'a':1, 1:'a', 2.3:True}\n",
        "print(mixed_dictionary)\n",
        "\n"
      ],
      "execution_count": null,
      "outputs": [
        {
          "output_type": "stream",
          "text": [
            "4443219078\n",
            "555901823\n",
            "4139083489\n",
            "{'a': 1, 1: 'a', 2.3: True}\n"
          ],
          "name": "stdout"
        }
      ]
    },
    {
      "cell_type": "code",
      "metadata": {
        "id": "TSxFBZscRA2Y"
      },
      "source": [
        "### EXERCISE: Write your own dictionary with 3 different items"
      ],
      "execution_count": null,
      "outputs": []
    },
    {
      "cell_type": "code",
      "metadata": {
        "id": "Gx8wo9UDRA2Z",
        "outputId": "7ada6a5a-64a9-4747-ebf6-85809345d4a7"
      },
      "source": [
        "### If-statements\n",
        "# By default, the code will be executed sequentially from the first line to the last\n",
        "# However, it's often necessary to have a more complicated execution of the code\n",
        "# Sometimes some lines don't need to be executed or need to be executed multiple times\n",
        "# This is refered to as \"flow of control\"\n",
        "\n",
        "#If-statements let you control if lines of code will be executed based on a condition\n",
        "\n",
        "# if condition :\n",
        "#     do some stuff\n",
        "\n",
        "#Note that after an if-statement, Python expects a tab indentation\n",
        "#everything that is one tab further than the \"if\" will be run if the condition is met"
      ],
      "execution_count": null,
      "outputs": [
        {
          "output_type": "stream",
          "text": [
            "X is less than Y!\n",
            "We're now outside the if-statment. x is now = 1\n"
          ],
          "name": "stdout"
        }
      ]
    },
    {
      "cell_type": "code",
      "metadata": {
        "id": "jK3vELvJSWj6"
      },
      "source": [
        "x=0\n",
        "y=1\n",
        "if x < y :\n",
        "    print('X is less than Y!')\n",
        "    \n",
        "    x += 1 # This augments <x> by 1 and is still part of the if statement\n",
        "    \n",
        "print(\"We're now outside the if-statment. x is now =\",x)\n",
        "    "
      ],
      "execution_count": null,
      "outputs": []
    },
    {
      "cell_type": "code",
      "metadata": {
        "id": "pB7q9exNRA2Z"
      },
      "source": [
        "# Slightly more complicated if-statement: if-else\n",
        "x=1\n",
        "y=1\n",
        "if x < y :\n",
        "    print('X is still less than Y!')\n",
        "else :\n",
        "    print('Y is now no longer greater than X!')"
      ],
      "execution_count": null,
      "outputs": []
    },
    {
      "cell_type": "code",
      "metadata": {
        "id": "3TbNHUTFRA2a",
        "outputId": "58dc2020-0efa-4067-8595-454e90930212",
        "colab": {
          "base_uri": "https://localhost:8080/"
        }
      },
      "source": [
        "# We can do even more complicated if-statments using \"elif\".\n",
        "# \"elif\" let's you evaluate one of more further conditions\n",
        "x = 2\n",
        "if x == 0 :\n",
        "    print('x equals 0')\n",
        "elif x == 1 :\n",
        "    print('x equals 1')\n",
        "elif x == 2 :\n",
        "    print('x equals 2')\n",
        "else :\n",
        "    print(\"x doesn't equal 0, 1, or 2\")\n"
      ],
      "execution_count": 1,
      "outputs": [
        {
          "output_type": "stream",
          "text": [
            "x equals 2\n"
          ],
          "name": "stdout"
        }
      ]
    },
    {
      "cell_type": "code",
      "metadata": {
        "id": "5GSIKahQRA2a",
        "outputId": "c8abd3af-e1d0-46f8-c40e-dd5e356618a3"
      },
      "source": [
        "\n",
        "\n"
      ],
      "execution_count": null,
      "outputs": [
        {
          "output_type": "stream",
          "text": [
            "1.6666666666666667 2 0.6666666666666666\n"
          ],
          "name": "stdout"
        }
      ]
    },
    {
      "cell_type": "code",
      "metadata": {
        "id": "GML7TkGhRA2b"
      },
      "source": [
        "### EXCERCISE: write an if-statement to determine if an integer, x, is even or odd\n",
        "# HINT:\n",
        "#     the \"%\" operator returns the remainder after division\n",
        "#     2 % 2 == 0\n",
        "#     3 % 2 == 1\n",
        "#     4 % 2 == 0\n",
        "#     5 % 2 == 1"
      ],
      "execution_count": null,
      "outputs": []
    },
    {
      "cell_type": "code",
      "metadata": {
        "id": "LobYvf8GUEE_",
        "outputId": "32a010eb-1021-46f5-bf86-153fd2327253",
        "colab": {
          "base_uri": "https://localhost:8080/"
        }
      },
      "source": [
        "\n",
        "\n",
        "\n",
        "\n",
        "\n",
        "### SOLUTION:\n",
        "x = 2 #set this to your favorite integer\n",
        "if x % 2 == 0 :\n",
        "  print('Even')\n",
        "else :\n",
        "  print('Odd')"
      ],
      "execution_count": 3,
      "outputs": [
        {
          "output_type": "stream",
          "text": [
            "Even\n"
          ],
          "name": "stdout"
        }
      ]
    },
    {
      "cell_type": "code",
      "metadata": {
        "id": "iVbve4_aRA2b",
        "outputId": "799bcfe4-603c-4bc3-b125-824e764a60f4"
      },
      "source": [
        "### Loops\n",
        "# for-loops let you run multiple lines of code repeatedly\n",
        "# loops are another way define the \"flow of control\" of the execution of the code\n",
        "# instead of writing :\n",
        "#\n",
        "x=1\n",
        "x += x\n",
        "x += x\n",
        "x += x\n",
        "x += x\n",
        "x += x\n",
        "print('x =',x)\n"
      ],
      "execution_count": null,
      "outputs": [
        {
          "output_type": "stream",
          "text": [
            "x = 32\n",
            "x = 32\n"
          ],
          "name": "stdout"
        }
      ]
    },
    {
      "cell_type": "code",
      "metadata": {
        "id": "CFP-jBY9UhU2"
      },
      "source": [
        "# you can write :\n",
        "x = 1 \n",
        "for i in range(5):  \n",
        "     x+=x    \n",
        "print('x =',x)\n",
        "\n",
        "# what is \"range()\"? it's a simple function that takes an argument (or input), n. \n",
        "# it returns a list of number from 0 to n-1, e.g. range(5) = [0,1,2,3,4]\n",
        "\n",
        "## a for-loop repeats the indented lines of code for each element in a collection\n",
        "# for <one of more variables> in <a collection of objects>:\n",
        "#     do some stuff"
      ],
      "execution_count": null,
      "outputs": []
    },
    {
      "cell_type": "code",
      "metadata": {
        "id": "r46ri1rERA2b",
        "outputId": "f954b890-a0e4-40ab-fc10-1f05188e98c1"
      },
      "source": [
        "# you can use for loops to iterate over collections, like lists\n",
        "list_of_items = ['a','b','c']\n",
        "for var in list_of_items :\n",
        "    print(var)"
      ],
      "execution_count": null,
      "outputs": [
        {
          "output_type": "stream",
          "text": [
            "a\n",
            "b\n",
            "c\n"
          ],
          "name": "stdout"
        }
      ]
    },
    {
      "cell_type": "code",
      "metadata": {
        "id": "IVQeI3K4RA2c",
        "outputId": "4592c38f-4daf-466f-d0a5-e73596fd7675"
      },
      "source": [
        "# as before, the list can be made up of different data types\n",
        "another_list = [False, 1, 'c']\n",
        "for x in another_list :\n",
        "    print(x)"
      ],
      "execution_count": null,
      "outputs": [
        {
          "output_type": "stream",
          "text": [
            "False\n",
            "1\n",
            "c\n"
          ],
          "name": "stdout"
        }
      ]
    },
    {
      "cell_type": "code",
      "metadata": {
        "id": "hae0NoTcYvt2"
      },
      "source": [
        "### EXCERCISE: Write a for-loop that iterates over \"another_list\" and an if-statement to check if the elements of the list are an integer\n",
        "another_list = [False, 1, 'c']\n"
      ],
      "execution_count": null,
      "outputs": []
    },
    {
      "cell_type": "code",
      "metadata": {
        "id": "4_sz4hIfZGF6"
      },
      "source": [
        "\n",
        "\n",
        "\n",
        "\n",
        "\n",
        "\n",
        "\n",
        "\n",
        "\n",
        "### SOLUTION:\n",
        "another_list = [False, 1, 'c']\n",
        "\n",
        "for x in another_list :\n",
        "  if type(x) == int :\n",
        "    print(x,'is an integer')"
      ],
      "execution_count": null,
      "outputs": []
    },
    {
      "cell_type": "code",
      "metadata": {
        "id": "RgD6FU9pRA2c",
        "outputId": "2f79a759-850f-42d3-9a95-cf14c3a70bb6"
      },
      "source": [
        "#You can also iterate over collections of collections, e.g., lists of lists\n",
        "a_list_of_lists=[[1,2],['b','c'],[True,False]]\n",
        "for y in a_list_of_lists :\n",
        "    print('y = ', y)\n",
        "    #here we have a for-loop embedded within another for-loop\n",
        "    for z in y:\n",
        "        print('z =', z)\n"
      ],
      "execution_count": null,
      "outputs": [
        {
          "output_type": "stream",
          "text": [
            "y =  [1, 2]\n",
            "z = 1\n",
            "z = 2\n",
            "y =  ['b', 'c']\n",
            "z = b\n",
            "z = c\n",
            "y =  [True, False]\n",
            "z = True\n",
            "z = False\n"
          ],
          "name": "stdout"
        }
      ]
    },
    {
      "cell_type": "code",
      "metadata": {
        "id": "2ICZ8ER5RA2c"
      },
      "source": [
        "### EXCERCISE: Write a for-loop over a list of integers and check if they are even. \n",
        "###            Use an if-statement before checking if they are even/odd to make sure that elements are integers\n",
        "###            Note: Checking that data objects are what you expect is called \"sanitizing inputs\". \n",
        "###                  It's very important for writing safe code that won't go haywire if it gets bad inputs.\n",
        "list_of_integers = [4,'7',11,201,23,2]\n"
      ],
      "execution_count": null,
      "outputs": []
    },
    {
      "cell_type": "code",
      "metadata": {
        "id": "TwaqbMd2WOo5",
        "outputId": "88cade3f-568e-4dde-fc79-44293026f758",
        "colab": {
          "base_uri": "https://localhost:8080/"
        }
      },
      "source": [
        "### Solution: \n",
        "list_of_integers = [4,'7',11,201,23,2]\n",
        "for i in list_of_integers: \n",
        "  if type(i) == int :\n",
        "    if i % 2 == 0 :\n",
        "      print('Even:', i)\n",
        "    else :\n",
        "      print('Odd:',i)"
      ],
      "execution_count": 10,
      "outputs": [
        {
          "output_type": "stream",
          "text": [
            "Even: 4\n",
            "Odd: 11\n",
            "Odd: 201\n",
            "Odd: 23\n",
            "Even: 2\n"
          ],
          "name": "stdout"
        }
      ]
    },
    {
      "cell_type": "code",
      "metadata": {
        "id": "5ZVlSuXRRA2d",
        "outputId": "d29aad72-7b90-4922-d5f4-d2c051a455ce"
      },
      "source": [
        "### Functions\n",
        "# functions are ways of packaging code together so that it's easily reusable\n",
        "# functions are defined using \"def\"\n",
        "#\n",
        "# function format:\n",
        "# def <your function name> (<arguments to function>) :\n",
        "#     <your code, with a tab-indent to show its part of the function>\n",
        "#     .\n",
        "#     .\n",
        "#     .\n",
        "#     return <the function outputs>\n",
        "a=0\n",
        "def squared(x): #define a function, \"square\", with a single input \"x\"\n",
        "    y = x * x # multiply x by itself\n",
        "    return y # define \"x\" as the output of the function\n",
        "\n",
        "z = squared(2)\n"
      ],
      "execution_count": null,
      "outputs": [
        {
          "output_type": "stream",
          "text": [
            "4\n"
          ],
          "name": "stdout"
        }
      ]
    },
    {
      "cell_type": "code",
      "metadata": {
        "id": "Q3HLE3mha2P_"
      },
      "source": [
        "### EXCERCISE : Write a function called \"even\" for checking if a variable is even. Should return True if the input variable is even, False otherwise\n",
        "\n",
        "\n",
        "# some simple tests to check your code, both should return True\n",
        "print(even(2) == True)\n",
        "print(even(3) == False)"
      ],
      "execution_count": null,
      "outputs": []
    },
    {
      "cell_type": "code",
      "metadata": {
        "id": "La7-WyLcbD0F",
        "outputId": "80e8d9bc-f865-42ca-ce93-3f776453e740",
        "colab": {
          "base_uri": "https://localhost:8080/"
        }
      },
      "source": [
        "\n",
        "\n",
        "\n",
        "\n",
        "\n",
        "\n",
        "### SOLUTION :\n",
        "\n",
        "def even(x):\n",
        "  if x % 2 == 0 :\n",
        "    return True\n",
        "  else :\n",
        "    return False #Note that a function can have multiple \"return\" \n",
        "\n",
        "print(even(2) == True)\n",
        "print(even(3) == False)\n",
        "\n",
        "def even(x):\n",
        "  is_even = x % 2 == 0\n",
        "  return is_even\n",
        "\n",
        "print(even(2) == True)\n",
        "print(even(3) == False)\n",
        "\n"
      ],
      "execution_count": 12,
      "outputs": [
        {
          "output_type": "stream",
          "text": [
            "True\n",
            "True\n",
            "True\n",
            "True\n"
          ],
          "name": "stdout"
        }
      ]
    },
    {
      "cell_type": "code",
      "metadata": {
        "id": "hhjS5SXNRA2d",
        "outputId": "b55d0e54-8bea-493a-a515-827c6afcac4d"
      },
      "source": [
        "# functions can have multiple inputs and outputs\n",
        "\n",
        "def power(x,y):\n",
        "    z = x ** y\n",
        "    return z\n",
        "print(\"3^3 =\", power(3,3))\n",
        "\n",
        "def squareRoot(x):\n",
        "    y=x**0.5\n",
        "    return y, -y\n",
        "\n",
        "root_0, root_1 = squareRoot(9)\n",
        "print(\"9^0.5 =\", root_0, root_1)\n"
      ],
      "execution_count": null,
      "outputs": [
        {
          "output_type": "stream",
          "text": [
            "3^3 = 27\n",
            "9^0.5 = (3.0, -3.0)\n"
          ],
          "name": "stdout"
        }
      ]
    },
    {
      "cell_type": "code",
      "metadata": {
        "id": "4IFtn4eJRA2e",
        "outputId": "90d22c0a-89ea-4b71-8c52-d3fa580c0b6f"
      },
      "source": [
        "### Variable scope\n",
        "# there are two basic types of variables: global and local\n",
        "# global variables can be used anywhere in your code\n",
        "# local variables only exist within a defined \"scope\"\n",
        "\n",
        "# This will give an error, because \"local_1\" is defined outside of the \"scope\" of \"dummy_function\"\n",
        "# So \"dummy_function\" can't see or doesn't have access to \"local_1\" and can't update it\n",
        "local_1=1\n",
        "def dummy_function(): #note that inputs can have no inputs and no outputs, by default functions return \"None\"\n",
        "    local_1 += 1\n",
        "\n",
        "dummy_function()\n"
      ],
      "execution_count": null,
      "outputs": [
        {
          "output_type": "error",
          "ename": "UnboundLocalError",
          "evalue": "local variable 'local_1' referenced before assignment",
          "traceback": [
            "\u001b[0;31m---------------------------------------------------------------------------\u001b[0m",
            "\u001b[0;31mUnboundLocalError\u001b[0m                         Traceback (most recent call last)",
            "\u001b[0;32m<ipython-input-25-5296cf9701c8>\u001b[0m in \u001b[0;36m<module>\u001b[0;34m\u001b[0m\n\u001b[1;32m     10\u001b[0m     \u001b[0mlocal_1\u001b[0m \u001b[0;34m+=\u001b[0m \u001b[0;36m1\u001b[0m\u001b[0;34m\u001b[0m\u001b[0;34m\u001b[0m\u001b[0m\n\u001b[1;32m     11\u001b[0m \u001b[0;34m\u001b[0m\u001b[0m\n\u001b[0;32m---> 12\u001b[0;31m \u001b[0mdummy_function\u001b[0m\u001b[0;34m(\u001b[0m\u001b[0;34m)\u001b[0m\u001b[0;34m\u001b[0m\u001b[0;34m\u001b[0m\u001b[0m\n\u001b[0m\u001b[1;32m     13\u001b[0m \u001b[0;31m# Solution is to add local_1 as an input to \"dummy_function\"\u001b[0m\u001b[0;34m\u001b[0m\u001b[0;34m\u001b[0m\u001b[0;34m\u001b[0m\u001b[0m\n\u001b[1;32m     14\u001b[0m \u001b[0;32mdef\u001b[0m \u001b[0mdummy_function\u001b[0m\u001b[0;34m(\u001b[0m\u001b[0mlocal_1\u001b[0m\u001b[0;34m)\u001b[0m\u001b[0;34m:\u001b[0m\u001b[0;34m\u001b[0m\u001b[0;34m\u001b[0m\u001b[0m\n",
            "\u001b[0;32m<ipython-input-25-5296cf9701c8>\u001b[0m in \u001b[0;36mdummy_function\u001b[0;34m()\u001b[0m\n\u001b[1;32m      8\u001b[0m \u001b[0mlocal_1\u001b[0m\u001b[0;34m=\u001b[0m\u001b[0;36m1\u001b[0m\u001b[0;34m\u001b[0m\u001b[0;34m\u001b[0m\u001b[0m\n\u001b[1;32m      9\u001b[0m \u001b[0;32mdef\u001b[0m \u001b[0mdummy_function\u001b[0m\u001b[0;34m(\u001b[0m\u001b[0;34m)\u001b[0m\u001b[0;34m:\u001b[0m \u001b[0;31m#note that inputs can have no inputs and no outputs\u001b[0m\u001b[0;34m\u001b[0m\u001b[0;34m\u001b[0m\u001b[0m\n\u001b[0;32m---> 10\u001b[0;31m     \u001b[0mlocal_1\u001b[0m \u001b[0;34m+=\u001b[0m \u001b[0;36m1\u001b[0m\u001b[0;34m\u001b[0m\u001b[0;34m\u001b[0m\u001b[0m\n\u001b[0m\u001b[1;32m     11\u001b[0m \u001b[0;34m\u001b[0m\u001b[0m\n\u001b[1;32m     12\u001b[0m \u001b[0mdummy_function\u001b[0m\u001b[0;34m(\u001b[0m\u001b[0;34m)\u001b[0m\u001b[0;34m\u001b[0m\u001b[0;34m\u001b[0m\u001b[0m\n",
            "\u001b[0;31mUnboundLocalError\u001b[0m: local variable 'local_1' referenced before assignment"
          ]
        }
      ]
    },
    {
      "cell_type": "code",
      "metadata": {
        "id": "jgbMM6pvRA2f",
        "outputId": "a5361718-ea47-4a3d-c3bf-5970d12eceda"
      },
      "source": [
        "# Solution is to add local_1 as an input to \"dummy_function\"\n",
        "def dummy_function(local_1):\n",
        "    local_1+=1\n",
        "    print('Inside function', local_1)\n",
        "    \n",
        "another_variable=1 \n",
        "print('Before function:', another_variable)\n",
        "dummy_function(another_variable) #note that the input that is passed to the function doesn't have to have the \n",
        "                                 #same name as is used in the function definition\n",
        "\n",
        "print('After function:', another_variable) #the variable isn't changed by what happens in the function!!!\n",
        "                                           # the function must return a new value and assign it to the variable\n",
        "                                           #to change it's value\n",
        "        \n",
        "def dummy_function_2(local_1):\n",
        "    local_1+=1\n",
        "    return local_1\n",
        "\n",
        "another_variable = dummy_function_2(another_variable)\n",
        "print('After dummy_function_2:', another_variable)"
      ],
      "execution_count": null,
      "outputs": [
        {
          "output_type": "stream",
          "text": [
            "Before function: 1\n",
            "Inside function 2\n",
            "After function: 1\n",
            "After dummy_function_2: 2\n"
          ],
          "name": "stdout"
        }
      ]
    },
    {
      "cell_type": "code",
      "metadata": {
        "id": "AHHfnajkRA2f",
        "outputId": "c7a7bd8a-37d9-4fdd-ddb5-3436ebc7738a"
      },
      "source": [
        "#Similarly, local_2 is defined inside of \"dummy_function\" and so can only be used inside the function.\n",
        "\n",
        "def dummy_function(): \n",
        "    local_2 = 2\n",
        "print(local_2)"
      ],
      "execution_count": null,
      "outputs": [
        {
          "output_type": "error",
          "ename": "NameError",
          "evalue": "name 'local_2' is not defined",
          "traceback": [
            "\u001b[0;31m---------------------------------------------------------------------------\u001b[0m",
            "\u001b[0;31mNameError\u001b[0m                                 Traceback (most recent call last)",
            "\u001b[0;32m<ipython-input-29-d743e5cd5bbc>\u001b[0m in \u001b[0;36m<module>\u001b[0;34m\u001b[0m\n\u001b[1;32m      3\u001b[0m \u001b[0;32mdef\u001b[0m \u001b[0mdummy_function\u001b[0m\u001b[0;34m(\u001b[0m\u001b[0;34m)\u001b[0m\u001b[0;34m:\u001b[0m\u001b[0;34m\u001b[0m\u001b[0;34m\u001b[0m\u001b[0m\n\u001b[1;32m      4\u001b[0m     \u001b[0mlocal_2\u001b[0m \u001b[0;34m=\u001b[0m \u001b[0;36m2\u001b[0m\u001b[0;34m\u001b[0m\u001b[0;34m\u001b[0m\u001b[0m\n\u001b[0;32m----> 5\u001b[0;31m \u001b[0mprint\u001b[0m\u001b[0;34m(\u001b[0m\u001b[0mlocal_2\u001b[0m\u001b[0;34m)\u001b[0m\u001b[0;34m\u001b[0m\u001b[0;34m\u001b[0m\u001b[0m\n\u001b[0m",
            "\u001b[0;31mNameError\u001b[0m: name 'local_2' is not defined"
          ]
        }
      ]
    },
    {
      "cell_type": "code",
      "metadata": {
        "id": "KwySZwYbRA2g",
        "outputId": "4d562e82-99b0-4e95-9978-fb2b40912e30"
      },
      "source": [
        "# To create a \"global\" variable that can be used anywhere in the code, \n",
        "# you can use <global> when defining the variable\n",
        "global global_1\n",
        "global global_2\n",
        "global_1='Hello'\n",
        "global_2=' Brave New'\n",
        "\n",
        "def dummy_function():\n",
        "    global global_1 # have to declare the variable as global so that python doesn't think it's local\n",
        "    global_1 += global_2 + ' World'\n",
        "    \n",
        "print('Before function:',global_1)\n",
        "dummy_function()\n",
        "print('After function:', global_1)\n",
        "\n",
        "# Note: Don't use global variables unless you're 100% sure it's the only way to do what you want.\n",
        "#       Using global variables can cause lots of problems because it's really hard to keep track\n",
        "#       of what's being modified where."
      ],
      "execution_count": null,
      "outputs": [
        {
          "output_type": "stream",
          "text": [
            "Before function: Hello\n",
            "After function: Hello Brave New World\n"
          ],
          "name": "stdout"
        }
      ]
    },
    {
      "cell_type": "code",
      "metadata": {
        "id": "voXkVHAVRA2g"
      },
      "source": [
        ""
      ],
      "execution_count": null,
      "outputs": []
    }
  ]
}