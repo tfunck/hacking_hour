{
 "cells": [
  {
   "cell_type": "code",
   "execution_count": null,
   "metadata": {},
   "outputs": [],
   "source": [
    "### Quick recap\n",
    "\n",
    "## define variables\n",
    "myvar=1 #define an integer\n",
    "myvar=str(myvar) #can cast an integer from one type to another\n",
    "\n",
    "\n",
    "## collections\n",
    "mylist = [1,2,3] #lists are a seqeuntial collection of data objects. \n",
    "print('mylist[0]:', mylist[0]) #lists can be indexed to reference specific elements\n",
    "mydict = {'a':1, 'b':2} # dictionaries map keys to values\n",
    "print('mydict[a]:', mydict['a']) #dictionaries are indexed with their keys\n",
    "mystring = 'Hello World!'\n",
    "print('mystring:', mystring)\n",
    "mytuple = (1,2,3) # tuples are like lists but they can't be modified once they're defined\n",
    "print('mytuple:', mytuple)\n",
    "\n",
    "## operators\n",
    "x = 1\n",
    "x = x+1*2/3**2 \n",
    "x += 1\n",
    "True and False # can also use boolean operators: \"and\", \"or\", \"not\""
   ]
  },
  {
   "cell_type": "code",
   "execution_count": null,
   "metadata": {
    "colab": {
     "base_uri": "https://localhost:8080/"
    },
    "id": "yM4m3PTlWnx1",
    "outputId": "a7cb41bc-d95b-4eae-8e3e-d2db13dae8ac"
   },
   "outputs": [],
   "source": [
    "### \"Type\" function\n",
    "\n",
    "# variables can have one of many different data types: int, float, char, boolean\n",
    "# the \"type\" function returns a variable's data type\n",
    "\n",
    "x_char='1'\n",
    "x_int=1\n",
    "x_float=1.\n",
    "x_bool=True\n",
    "\n",
    "print(x_char, 'is a', type(x_char))\n",
    "print(x_int, 'is a', type(x_int))\n",
    "print(x_float, 'is a', type(x_float))\n",
    "print(x_bool, 'is a', type(x_bool))\n"
   ]
  },
  {
   "cell_type": "code",
   "execution_count": null,
   "metadata": {
    "colab": {
     "base_uri": "https://localhost:8080/"
    },
    "id": "Xya0b-NNXTWU",
    "outputId": "7ef11727-490e-4972-c997-2ee1165a5b74"
   },
   "outputs": [],
   "source": [
    "# you can use the \"type()\" function with \"==\" to check a variables type\n",
    "x_char='1'\n",
    "x_int=1\n",
    "x_float=1.\n",
    "x_bool=True\n",
    "\n",
    "print('x_int is an int:', type(x_int) == int )\n",
    "print('x_int is a float:', type(x_int) == float )"
   ]
  },
  {
   "cell_type": "code",
   "execution_count": null,
   "metadata": {
    "id": "SrC9a8GHRA2R",
    "outputId": "b6a17bcf-0f77-4634-db4b-7196d4f536e3"
   },
   "outputs": [],
   "source": [
    "### Operators on characters\n",
    "x='4'\n",
    "y='7'\n",
    "z=x+y\n",
    "print('a simple string:', x) #Congratulations you just created a \"string\", i.e., an ordered collection of characters\n",
    "\n",
    "z += y #this will work, but -= won't. Not all operators work for all data types\n",
    "print('another simple string', z)\n"
   ]
  },
  {
   "cell_type": "code",
   "execution_count": null,
   "metadata": {
    "id": "ttQ5fRMSRA2W",
    "outputId": "736f05fa-4801-48db-abc5-2438efd51dd4"
   },
   "outputs": [],
   "source": [
    "### Strings\n",
    "# Strings are very useful. Used to represent filenames\n",
    "x='/path/to/my/file.nii.gz'\n",
    "print(x)\n",
    "\n",
    "#There are lots of special functions for manipulating strings, but to start \n",
    "#it's enough to know that individual characters in strings can be referenced as follows:  \n",
    "\n",
    "print(x[0],x[1],x[2],x[3],x[4])\n",
    "\n",
    "#Note that in Python, like most programming languages, we begin counting at 0 not 1. So the first element\n",
    "#in a string is at 0.\n"
   ]
  },
  {
   "cell_type": "code",
   "execution_count": null,
   "metadata": {
    "id": "GH0O0jb8RA2X"
   },
   "outputs": [],
   "source": [
    "### Lists\n",
    "# Whereas strings are collections of characters, lists are collections of any type.\n",
    "# Lists are defined using \"[\" and \"]\"\n",
    "list_int = [0,1,2]\n",
    "print(list_int)\n",
    "\n",
    "list_char=[\"a\", \"b\", \"c\"]\n",
    "print(list_char)\n",
    "\n",
    "list_bool=[True, True, False]\n",
    "print(list_bool)\n",
    "\n",
    "#Lists can contain multiple data types\n",
    "list_mixed=[0,'b',False]\n",
    "print(list_mixed)\n",
    "\n",
    "#As with strings, lists can be indexed to retrieve specific elements\n",
    "print(list_mixed[0],list_mixed[1],list_mixed[2])\n",
    "\n",
    "#You can even create lists of lists..."
   ]
  },
  {
   "cell_type": "code",
   "execution_count": null,
   "metadata": {
    "id": "5KHE_TH9RA2Y"
   },
   "outputs": [],
   "source": [
    "### EXERCISE: Create a list containing sub-lists. How would you reference elements from this list of lists? "
   ]
  },
  {
   "cell_type": "code",
   "execution_count": null,
   "metadata": {
    "id": "fTwpEnwxReiM"
   },
   "outputs": [],
   "source": [
    "\n",
    "\n",
    "\n",
    "\n",
    "\n",
    "\n",
    "\n",
    "\n",
    "\n",
    "### SOLUTION:\n",
    "my_list = [[True, 0],['a','abc',2]]\n",
    "print(my_list[0][1])\n",
    "print(my_list[1][1])"
   ]
  },
  {
   "cell_type": "code",
   "execution_count": null,
   "metadata": {
    "id": "A_4clfC9RA2Y",
    "outputId": "0b99e88e-ac76-43e8-8e6d-3214d6f3f8a2"
   },
   "outputs": [],
   "source": [
    "### Dictionaries\n",
    "# Dictionaties are different type of collection \n",
    "# Dictionaries have \"keys\" and \"values\"\n",
    "# Dictionaries are defiend using \"{\" and \"}\". Keys and values are declared as : {key0:value0,key1:value1} \n",
    "telephone_numbers = {'Mackenzie':4443219078, 'Stevie':555901823, 'Chris':4139083489}\n",
    "\n",
    "#Unlike lists, which are indexed by entry number, dictionaries are indexed by their keys\n",
    "print(telephone_numbers['Mackenzie'])\n",
    "print(telephone_numbers['Stevie'])\n",
    "print(telephone_numbers['Chris'])\n",
    "\n",
    "#Like lists, dictionaries can use multiple data types, both for keys and values\n",
    "mixed_dictionary={'a':1, 1:'a', 2.3:True}\n",
    "print(mixed_dictionary)\n",
    "\n"
   ]
  },
  {
   "cell_type": "code",
   "execution_count": null,
   "metadata": {
    "id": "TSxFBZscRA2Y"
   },
   "outputs": [],
   "source": [
    "### EXERCISE: Write your own dictionary with 3 different items"
   ]
  },
  {
   "cell_type": "code",
   "execution_count": null,
   "metadata": {
    "id": "Gx8wo9UDRA2Z",
    "outputId": "7ada6a5a-64a9-4747-ebf6-85809345d4a7"
   },
   "outputs": [],
   "source": [
    "### If-statements\n",
    "# By default, the code will be executed sequentially from the first line to the last\n",
    "# However, it's often necessary to have a more complicated execution of the code\n",
    "# Sometimes some lines don't need to be executed or need to be executed multiple times\n",
    "# This is refered to as \"flow of control\"\n",
    "\n",
    "#If-statements let you control if lines of code will be executed based on a condition\n",
    "\n",
    "# if condition :\n",
    "#     do some stuff\n",
    "\n",
    "#Note that after an if-statement, Python expects a tab indentation\n",
    "#everything that is one tab further than the \"if\" will be run if the condition is met"
   ]
  },
  {
   "cell_type": "code",
   "execution_count": null,
   "metadata": {
    "id": "jK3vELvJSWj6"
   },
   "outputs": [],
   "source": [
    "x=0\n",
    "y=1\n",
    "if x < y :\n",
    "    print('X is less than Y!')\n",
    "    \n",
    "    x += 1 # This augments <x> by 1 and is still part of the if statement\n",
    "    \n",
    "print(\"We're now outside the if-statment. x is now =\",x)\n",
    "    "
   ]
  },
  {
   "cell_type": "code",
   "execution_count": null,
   "metadata": {
    "id": "pB7q9exNRA2Z"
   },
   "outputs": [],
   "source": [
    "# Slightly more complicated if-statement: if-else\n",
    "x=1\n",
    "y=1\n",
    "if x < y :\n",
    "    print('X is still less than Y!')\n",
    "else :\n",
    "    print('Y is now no longer greater than X!')"
   ]
  },
  {
   "cell_type": "code",
   "execution_count": null,
   "metadata": {
    "colab": {
     "base_uri": "https://localhost:8080/"
    },
    "id": "3TbNHUTFRA2a",
    "outputId": "58dc2020-0efa-4067-8595-454e90930212"
   },
   "outputs": [],
   "source": [
    "# We can do even more complicated if-statments using \"elif\".\n",
    "# \"elif\" let's you evaluate one of more further conditions\n",
    "x = 2\n",
    "if x == 0 :\n",
    "    print('x equals 0')\n",
    "elif x == 1 :\n",
    "    print('x equals 1')\n",
    "elif x == 2 :\n",
    "    print('x equals 2')\n",
    "else :\n",
    "    print(\"x doesn't equal 0, 1, or 2\")\n"
   ]
  },
  {
   "cell_type": "code",
   "execution_count": null,
   "metadata": {
    "id": "5GSIKahQRA2a",
    "outputId": "c8abd3af-e1d0-46f8-c40e-dd5e356618a3"
   },
   "outputs": [],
   "source": [
    "\n",
    "\n"
   ]
  },
  {
   "cell_type": "code",
   "execution_count": null,
   "metadata": {
    "id": "GML7TkGhRA2b"
   },
   "outputs": [],
   "source": [
    "### EXCERCISE: write an if-statement to determine if an integer, x, is even or odd\n",
    "# HINT:\n",
    "#     the \"%\" operator returns the remainder after division\n",
    "#     2 % 2 == 0\n",
    "#     3 % 2 == 1\n",
    "#     4 % 2 == 0\n",
    "#     5 % 2 == 1"
   ]
  },
  {
   "cell_type": "code",
   "execution_count": null,
   "metadata": {
    "colab": {
     "base_uri": "https://localhost:8080/"
    },
    "id": "LobYvf8GUEE_",
    "outputId": "32a010eb-1021-46f5-bf86-153fd2327253"
   },
   "outputs": [],
   "source": [
    "\n",
    "\n",
    "\n",
    "\n",
    "\n",
    "### SOLUTION:\n",
    "x = 2 #set this to your favorite integer\n",
    "if x % 2 == 0 :\n",
    "  print('Even')\n",
    "else :\n",
    "  print('Odd')"
   ]
  },
  {
   "cell_type": "code",
   "execution_count": null,
   "metadata": {
    "id": "iVbve4_aRA2b",
    "outputId": "799bcfe4-603c-4bc3-b125-824e764a60f4"
   },
   "outputs": [],
   "source": [
    "### Loops\n",
    "# for-loops let you run multiple lines of code repeatedly\n",
    "# loops are another way define the \"flow of control\" of the execution of the code\n",
    "# instead of writing :\n",
    "#\n",
    "x=1\n",
    "x += x\n",
    "x += x\n",
    "x += x\n",
    "x += x\n",
    "x += x\n",
    "print('x =',x)\n"
   ]
  },
  {
   "cell_type": "code",
   "execution_count": null,
   "metadata": {
    "id": "CFP-jBY9UhU2"
   },
   "outputs": [],
   "source": [
    "# you can write :\n",
    "x = 1 \n",
    "for i in range(5):  \n",
    "     x+=x    \n",
    "print('x =',x)\n",
    "\n",
    "# what is \"range()\"? it's a simple function that takes an argument (or input), n. \n",
    "# it returns a list of number from 0 to n-1, e.g. range(5) = [0,1,2,3,4]\n",
    "\n",
    "## a for-loop repeats the indented lines of code for each element in a collection\n",
    "# for <one of more variables> in <a collection of objects>:\n",
    "#     do some stuff"
   ]
  },
  {
   "cell_type": "code",
   "execution_count": null,
   "metadata": {
    "id": "r46ri1rERA2b",
    "outputId": "f954b890-a0e4-40ab-fc10-1f05188e98c1"
   },
   "outputs": [],
   "source": [
    "# you can use for loops to iterate over collections, like lists\n",
    "list_of_items = ['a','b','c']\n",
    "for var in list_of_items :\n",
    "    print(var)"
   ]
  },
  {
   "cell_type": "code",
   "execution_count": null,
   "metadata": {
    "id": "IVQeI3K4RA2c",
    "outputId": "4592c38f-4daf-466f-d0a5-e73596fd7675"
   },
   "outputs": [],
   "source": [
    "# as before, the list can be made up of different data types\n",
    "another_list = [False, 1, 'c']\n",
    "for x in another_list :\n",
    "    print(x)"
   ]
  },
  {
   "cell_type": "code",
   "execution_count": null,
   "metadata": {
    "id": "hae0NoTcYvt2"
   },
   "outputs": [],
   "source": [
    "### EXCERCISE: Write a for-loop that iterates over \"another_list\" and an if-statement to check if the elements of the list are an integer\n",
    "another_list = [False, 1, 'c']\n"
   ]
  },
  {
   "cell_type": "code",
   "execution_count": null,
   "metadata": {
    "id": "4_sz4hIfZGF6"
   },
   "outputs": [],
   "source": [
    "\n",
    "\n",
    "\n",
    "\n",
    "\n",
    "\n",
    "\n",
    "\n",
    "\n",
    "### SOLUTION:\n",
    "another_list = [False, 1, 'c']\n",
    "\n",
    "for x in another_list :\n",
    "  if type(x) == int :\n",
    "    print(x,'is an integer')"
   ]
  },
  {
   "cell_type": "code",
   "execution_count": null,
   "metadata": {
    "id": "RgD6FU9pRA2c",
    "outputId": "2f79a759-850f-42d3-9a95-cf14c3a70bb6"
   },
   "outputs": [],
   "source": [
    "#You can also iterate over collections of collections, e.g., lists of lists\n",
    "a_list_of_lists=[[1,2],['b','c'],[True,False]]\n",
    "for y in a_list_of_lists :\n",
    "    print('y = ', y)\n",
    "    #here we have a for-loop embedded within another for-loop\n",
    "    for z in y:\n",
    "        print('z =', z)\n"
   ]
  },
  {
   "cell_type": "code",
   "execution_count": null,
   "metadata": {
    "id": "2ICZ8ER5RA2c"
   },
   "outputs": [],
   "source": [
    "### EXCERCISE: Write a for-loop over a list of integers and check if they are even. \n",
    "###            Use an if-statement before checking if they are even/odd to make sure that elements are integers\n",
    "###            Note: Checking that data objects are what you expect is called \"sanitizing inputs\". \n",
    "###                  It's very important for writing safe code that won't go haywire if it gets bad inputs.\n",
    "list_of_integers = [4,'7',11,201,23,2]\n"
   ]
  },
  {
   "cell_type": "code",
   "execution_count": null,
   "metadata": {
    "colab": {
     "base_uri": "https://localhost:8080/"
    },
    "id": "TwaqbMd2WOo5",
    "outputId": "88cade3f-568e-4dde-fc79-44293026f758"
   },
   "outputs": [],
   "source": [
    "### Solution: \n",
    "list_of_integers = [4,'7',11,201,23,2]\n",
    "for i in list_of_integers: \n",
    "  if type(i) == int :\n",
    "    if i % 2 == 0 :\n",
    "      print('Even:', i)\n",
    "    else :\n",
    "      print('Odd:',i)"
   ]
  },
  {
   "cell_type": "code",
   "execution_count": null,
   "metadata": {
    "id": "5ZVlSuXRRA2d",
    "outputId": "d29aad72-7b90-4922-d5f4-d2c051a455ce"
   },
   "outputs": [],
   "source": [
    "### Functions\n",
    "# functions are ways of packaging code together so that it's easily reusable\n",
    "# functions are defined using \"def\"\n",
    "#\n",
    "# function format:\n",
    "# def <your function name> (<arguments to function>) :\n",
    "#     <your code, with a tab-indent to show its part of the function>\n",
    "#     .\n",
    "#     .\n",
    "#     .\n",
    "#     return <the function outputs>\n",
    "a=0\n",
    "def squared(x): #define a function, \"square\", with a single input \"x\"\n",
    "    y = x * x # multiply x by itself\n",
    "    return y # define \"x\" as the output of the function\n",
    "\n",
    "z = squared(2)\n"
   ]
  },
  {
   "cell_type": "code",
   "execution_count": null,
   "metadata": {
    "id": "Q3HLE3mha2P_"
   },
   "outputs": [],
   "source": [
    "### EXCERCISE : Write a function called \"even\" for checking if a variable is even. Should return True if the input variable is even, False otherwise\n",
    "\n",
    "\n",
    "# some simple tests to check your code, both should return True\n",
    "print(even(2) == True)\n",
    "print(even(3) == False)"
   ]
  },
  {
   "cell_type": "code",
   "execution_count": null,
   "metadata": {
    "colab": {
     "base_uri": "https://localhost:8080/"
    },
    "id": "La7-WyLcbD0F",
    "outputId": "80e8d9bc-f865-42ca-ce93-3f776453e740"
   },
   "outputs": [],
   "source": [
    "\n",
    "\n",
    "\n",
    "\n",
    "\n",
    "\n",
    "### SOLUTION :\n",
    "\n",
    "def even(x):\n",
    "  if x % 2 == 0 :\n",
    "    return True\n",
    "  else :\n",
    "    return False #Note that a function can have multiple \"return\" \n",
    "\n",
    "print(even(2) == True)\n",
    "print(even(3) == False)\n",
    "\n",
    "def even(x):\n",
    "  is_even = x % 2 == 0\n",
    "  return is_even\n",
    "\n",
    "print(even(2) == True)\n",
    "print(even(3) == False)\n",
    "\n"
   ]
  },
  {
   "cell_type": "code",
   "execution_count": null,
   "metadata": {
    "id": "hhjS5SXNRA2d",
    "outputId": "b55d0e54-8bea-493a-a515-827c6afcac4d"
   },
   "outputs": [],
   "source": [
    "# functions can have multiple inputs and outputs\n",
    "\n",
    "def power(x,y):\n",
    "    z = x ** y\n",
    "    return z\n",
    "print(\"3^3 =\", power(3,3))\n",
    "\n",
    "def squareRoot(x):\n",
    "    y=x**0.5\n",
    "    return y, -y\n",
    "\n",
    "root_0, root_1 = squareRoot(9)\n",
    "print(\"9^0.5 =\", root_0, root_1)\n"
   ]
  }
 ],
 "metadata": {
  "colab": {
   "name": "W2.ipynb",
   "provenance": []
  },
  "kernelspec": {
   "display_name": "Python 3",
   "language": "python",
   "name": "python3"
  },
  "language_info": {
   "codemirror_mode": {
    "name": "ipython",
    "version": 3
   },
   "file_extension": ".py",
   "mimetype": "text/x-python",
   "name": "python",
   "nbconvert_exporter": "python",
   "pygments_lexer": "ipython3",
   "version": "3.6.9"
  }
 },
 "nbformat": 4,
 "nbformat_minor": 1
}
