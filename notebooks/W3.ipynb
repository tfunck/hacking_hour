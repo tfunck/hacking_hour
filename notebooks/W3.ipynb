{
 "cells": [
  {
   "cell_type": "code",
   "execution_count": 2,
   "metadata": {},
   "outputs": [],
   "source": [
    "### Variable scope\n",
    "# variables can be divided into \"global\" and \"local\" based on their \"scope\"\n",
    "# global variables can be used anywhere in your code\n",
    "# local variables only exist within a defined \"scope\"\n",
    "\n",
    "#  total workspace\n",
    "# |-----------------------------|\n",
    "# |global --> x                 |\n",
    "# |                             |\n",
    "# |             function()      |\n",
    "# |            |-------------|  | \n",
    "# |            | local --> y |  |\n",
    "# |            |-------------|  |  \n",
    "# |-----------------------------|\n",
    "\n",
    "# in the above schema, we have an overall workspace and a workspace for a function \n",
    "# in the global workspace, we define a global variable, x.\n",
    "# inside the function we create a local variable y.\n",
    "# global x can be used anywhere, including inside function()\n",
    "# local y can only be used in function()\n",
    "# "
   ]
  },
  {
   "cell_type": "code",
   "execution_count": 3,
   "metadata": {},
   "outputs": [],
   "source": [
    "### Global variables\n",
    "\n",
    "# Here we define a variable, local_1. Because it is outside of any function, it is by default a global variable\n",
    "local_1=1\n",
    "def dummy_function(): #note that inputs can have no inputs and no outputs, by default functions return \"None\"\n",
    "    global local_1 # To use the global variable inside the function, declare it with \"global\" keyword\n",
    "    local_1 += 1 \n",
    "\n",
    "dummy_function()\n",
    "\n",
    "### Don't use global variables... unless you really need to.\n",
    "### You can create really challeneging bugs with global variables \n",
    "### because it's not always obvious where a variable is beind modified"
   ]
  },
  {
   "cell_type": "code",
   "execution_count": 5,
   "metadata": {},
   "outputs": [
    {
     "name": "stdout",
     "output_type": "stream",
     "text": [
      "inside dummy_function(), local_2 = 2\n"
     ]
    },
    {
     "ename": "NameError",
     "evalue": "name 'local_2' is not defined",
     "output_type": "error",
     "traceback": [
      "\u001b[0;31m---------------------------------------------------------------------------\u001b[0m",
      "\u001b[0;31mNameError\u001b[0m                                 Traceback (most recent call last)",
      "\u001b[0;32m<ipython-input-5-701e1444cde4>\u001b[0m in \u001b[0;36m<module>\u001b[0;34m\u001b[0m\n\u001b[1;32m      6\u001b[0m \u001b[0;34m\u001b[0m\u001b[0m\n\u001b[1;32m      7\u001b[0m \u001b[0mdummy_function\u001b[0m\u001b[0;34m(\u001b[0m\u001b[0;34m)\u001b[0m\u001b[0;34m\u001b[0m\u001b[0;34m\u001b[0m\u001b[0m\n\u001b[0;32m----> 8\u001b[0;31m \u001b[0mprint\u001b[0m\u001b[0;34m(\u001b[0m\u001b[0;34m'outside dummy_function(), local_2 ='\u001b[0m\u001b[0;34m,\u001b[0m \u001b[0mlocal_2\u001b[0m\u001b[0;34m)\u001b[0m\u001b[0;34m\u001b[0m\u001b[0;34m\u001b[0m\u001b[0m\n\u001b[0m",
      "\u001b[0;31mNameError\u001b[0m: name 'local_2' is not defined"
     ]
    }
   ],
   "source": [
    "### Local variables\n",
    "\n",
    "#Similarly, local_2 is defined inside of \"dummy_function\" and so can only be used inside the function.\n",
    "\n",
    "def dummy_function(): \n",
    "    local_2 = 2\n",
    "    print('inside dummy_function(), local_2 =', local_2)\n",
    "    \n",
    "dummy_function()\n",
    "print('outside dummy_function(), local_2 =', local_2)"
   ]
  },
  {
   "cell_type": "code",
   "execution_count": null,
   "metadata": {},
   "outputs": [],
   "source": [
    "### EXCERCISE\n",
    "# Write some code that defines a :\n",
    "#    1) global variable, a \n",
    "#    2) function with a 2a) local variable, 2b) an operation that modifies the global using the local variable,\n",
    "#    3) a print statement showing the new value of the global value"
   ]
  },
  {
   "cell_type": "code",
   "execution_count": 7,
   "metadata": {},
   "outputs": [
    {
     "name": "stdout",
     "output_type": "stream",
     "text": [
      "3\n"
     ]
    }
   ],
   "source": [
    "\n",
    "\n",
    "\n",
    "\n",
    "\n",
    "\n",
    "\n",
    "\n",
    "\n",
    "### SOLUTION\n",
    "my_var = 1\n",
    "\n",
    "def my_func():\n",
    "    global my_var\n",
    "    another_var = 2\n",
    "    my_var += another_var\n",
    "my_func()\n",
    "print(my_var)"
   ]
  },
  {
   "cell_type": "code",
   "execution_count": null,
   "metadata": {},
   "outputs": [],
   "source": [
    "### Common python functions\n",
    "#\n",
    "# Python provides are lot of useful functions for doing basic things, so it's worth taking a minute\n",
    "# to learn them"
   ]
  },
  {
   "cell_type": "code",
   "execution_count": 8,
   "metadata": {},
   "outputs": [
    {
     "name": "stdout",
     "output_type": "stream",
     "text": [
      "range(0, 3)\n"
     ]
    }
   ],
   "source": [
    "### Common python functions: range()\n",
    "#    range() is a function for producing lists of numbers\n",
    "\n",
    "#    range(n) --> returns a \"sequence\" of numbers from 0 to \"n\"\n",
    "print(list(range(10))\n"
   ]
  },
  {
   "cell_type": "code",
   "execution_count": 9,
   "metadata": {},
   "outputs": [
    {
     "name": "stdout",
     "output_type": "stream",
     "text": [
      "[5, 6, 7, 8, 9]\n"
     ]
    }
   ],
   "source": [
    "#    range(start, stop) --> returns a sequence of numbers from \"start\" to \"stop\" - 1 \n",
    "print(list(range(5, 10)))"
   ]
  },
  {
   "cell_type": "code",
   "execution_count": 10,
   "metadata": {},
   "outputs": [
    {
     "name": "stdout",
     "output_type": "stream",
     "text": [
      "[0, 2, 4, 6, 8]\n"
     ]
    }
   ],
   "source": [
    "#    range(start, stop, step) --> returns sequence of numbers from \"start\" to \"stop\" - 1 with \"step\"\n",
    "print(list(range(0, 10, 2)))"
   ]
  },
  {
   "cell_type": "code",
   "execution_count": null,
   "metadata": {},
   "outputs": [],
   "source": [
    "#Remember, range() can be used to generate a sequence of numbers that can be iterated over with a for-loop\n",
    "for x in range(0,10,2):\n",
    "    print(x)"
   ]
  },
  {
   "cell_type": "code",
   "execution_count": 11,
   "metadata": {},
   "outputs": [
    {
     "name": "stdout",
     "output_type": "stream",
     "text": [
      "3\n",
      "6\n"
     ]
    }
   ],
   "source": [
    "### Common python functions: len()\n",
    "\n",
    "#   len() --> returns the length of a collection, like a list\n",
    "print( len(['a','b','c']) )\n",
    "print( len('string') ) #strings are a collection of characters, so they also have a length"
   ]
  },
  {
   "cell_type": "code",
   "execution_count": 12,
   "metadata": {},
   "outputs": [
    {
     "name": "stdout",
     "output_type": "stream",
     "text": [
      "sub-01_T1w.nii.gz\n",
      "sub-02_T1w.nii.gz\n",
      "sub-03_T1w.nii.gz\n"
     ]
    }
   ],
   "source": [
    "# Example combining len() and range()\n",
    "\n",
    "# create a list of subjects\n",
    "my_files = ['sub-01_T1w.nii.gz','sub-02_T1w.nii.gz','sub-03_T1w.nii.gz']\n",
    "n_files = len(my_files)\n",
    "\n",
    "for i in range(n_files): # range produces a list of numbers from 0 to 2\n",
    "    current_file = my_files[i] #use variable i to index list of files \n",
    "    print(current_file)"
   ]
  },
  {
   "cell_type": "code",
   "execution_count": null,
   "metadata": {},
   "outputs": [],
   "source": [
    "### EXCERCISE :\n",
    "# 1. Create a list of strings,\n",
    "# 2. use a for-loop to iterate over the elements of your list\n",
    "# 3. at each iteration calculate and print the length of the current element  "
   ]
  },
  {
   "cell_type": "code",
   "execution_count": 30,
   "metadata": {},
   "outputs": [
    {
     "name": "stdout",
     "output_type": "stream",
     "text": [
      "3\n",
      "3\n",
      "5\n",
      "4\n"
     ]
    }
   ],
   "source": [
    "\n",
    "\n",
    "\n",
    "\n",
    "\n",
    "\n",
    "### SOLUTION:\n",
    "a_list = ['one', 'two', 'three', 'four']\n",
    "for element in a_list :\n",
    "    print(len(element))"
   ]
  },
  {
   "cell_type": "code",
   "execution_count": 14,
   "metadata": {},
   "outputs": [
    {
     "name": "stdout",
     "output_type": "stream",
     "text": [
      "[(0, 'a'), (1, 'b'), (2, 'c'), (3, 'd')]\n"
     ]
    }
   ],
   "source": [
    "### Common python functions: enum()\n",
    "\n",
    "# enumerate() is basically used to count the elements in a collection\n",
    "# enumerate() takes a collection as argument\n",
    "# ((0,'a'),(1,'b'),(2,'c')) = enum(['a','b','c])\n",
    "my_list = ['a','b','c','d']\n",
    "print(list(enumerate(my_list)))"
   ]
  },
  {
   "cell_type": "code",
   "execution_count": 19,
   "metadata": {},
   "outputs": [
    {
     "name": "stdout",
     "output_type": "stream",
     "text": [
      "x= 3 y= 1\n",
      "z[0]= 3 z[1]= 1\n"
     ]
    }
   ],
   "source": [
    "# Remember that a function can return multiple arguments\n",
    "def my_function(x) :\n",
    "    return x+1, x-1 #my function returns two outputs\n",
    "\n",
    "#because my_function returns 2 outputs, we can assign each of the outputs to a variable\n",
    "x, y = my_function(2) \n",
    "print('x=',x,'y=',y)\n",
    "#alternatively you can also assign the output to single variable\n",
    "# in this case the variable, z, is a list with two elements, one for each output\n",
    "z = my_function(2) \n",
    "print('z[0]=',z[0],'z[1]=',z[1])"
   ]
  },
  {
   "cell_type": "code",
   "execution_count": 23,
   "metadata": {},
   "outputs": [
    {
     "name": "stdout",
     "output_type": "stream",
     "text": [
      "(0, 'a')\n",
      "(1, 'b')\n",
      "(2, 'c')\n",
      "(3, 'd')\n"
     ]
    }
   ],
   "source": [
    "# back to enumerate()\n",
    "my_list = ['sub-01_T1w.nii.gz','sub-02_T1w.nii.gz','sub-03_T1w.nii.gz']\n",
    "enumerated_list = list(enumerate(my_list))\n",
    "print(enumerated_list[0])\n",
    "print(enumerated_list[1])\n",
    "print(enumerated_list[2])\n",
    "print(enumerated_list[3])"
   ]
  },
  {
   "cell_type": "code",
   "execution_count": 26,
   "metadata": {},
   "outputs": [
    {
     "name": "stdout",
     "output_type": "stream",
     "text": [
      "(0, 'sub-01_T1w.nii.gz')\n",
      "(1, 'sub-02_T1w.nii.gz')\n",
      "(2, 'sub-03_T1w.nii.gz')\n"
     ]
    }
   ],
   "source": [
    "my_list = ['sub-01_T1w.nii.gz','sub-32_T1w.nii.gz','sub-13_T1w.nii.gz']\n",
    "for element in list(enumerate(my_list)):\n",
    "    print(element)"
   ]
  },
  {
   "cell_type": "code",
   "execution_count": 25,
   "metadata": {},
   "outputs": [
    {
     "name": "stdout",
     "output_type": "stream",
     "text": [
      "0 sub-01_T1w.nii.gz\n",
      "1 sub-02_T1w.nii.gz\n",
      "2 sub-03_T1w.nii.gz\n"
     ]
    }
   ],
   "source": [
    "my_list = ['sub-01_T1w.nii.gz','sub-32_T1w.nii.gz','sub-13_T1w.nii.gz']\n",
    "for counter, filename in list(enumerate(my_list)):\n",
    "    print(counter, filename)"
   ]
  },
  {
   "cell_type": "code",
   "execution_count": 29,
   "metadata": {},
   "outputs": [
    {
     "name": "stdout",
     "output_type": "stream",
     "text": [
      "min: -10\n",
      "max: 8\n",
      "abs: abs( -10 ) --> 10\n",
      "sum: -10\n"
     ]
    }
   ],
   "source": [
    "### Common python functions : max(), min(), abs(), sum()\n",
    "my_list=list(range(-10,10,2))\n",
    "print('min:', min(my_list))\n",
    "print('max:', max(my_list))\n",
    "print('abs:', 'abs(',my_list[0], ') -->',abs(my_list[0]))\n",
    "print('sum:', sum(my_list))"
   ]
  },
  {
   "cell_type": "code",
   "execution_count": 31,
   "metadata": {},
   "outputs": [
    {
     "name": "stdout",
     "output_type": "stream",
     "text": [
      "[0, 1, 4, 9, 16]\n"
     ]
    }
   ],
   "source": [
    "### List comphrension\n",
    "# List comphrension is another way to iterate over a collection\n",
    "# Instead of using a for-loop, you can often use \"list comprehension\"\n",
    "# [ <do some stuff> for <variable> in <some collection> ]"
   ]
  },
  {
   "cell_type": "code",
   "execution_count": 33,
   "metadata": {},
   "outputs": [
    {
     "name": "stdout",
     "output_type": "stream",
     "text": [
      "iteration 0 --> [0]\n",
      "iteration 1 --> [0, 1]\n",
      "iteration 2 --> [0, 1, 4]\n",
      "iteration 3 --> [0, 1, 4, 9]\n",
      "iteration 4 --> [0, 1, 4, 9, 16]\n",
      "[0, 1, 4, 9, 16]\n"
     ]
    }
   ],
   "source": [
    "# here is a simple example using a for-loop to create a list\n",
    "\n",
    "mylist=[] # create an empty list\n",
    "for i in range(5):\n",
    "    x = i*i # multiple \"i\" by itself\n",
    "    mylist += [x] # you can use += with lists to append new elements to an existing list\n",
    "    print('iteration',i,'-->', mylist)\n",
    "    \n",
    "print('final list', mylist)"
   ]
  },
  {
   "cell_type": "code",
   "execution_count": 34,
   "metadata": {},
   "outputs": [
    {
     "name": "stdout",
     "output_type": "stream",
     "text": [
      "[0, 1, 4, 9, 16]\n"
     ]
    }
   ],
   "source": [
    "# another way of writing the same thing in a single line using list comphrension\n",
    "# [ <do some stuff> for <variable> in <some collection> ]\n",
    "mylist = [ i*i for i in range(5) ]\n",
    "print(mylist)"
   ]
  },
  {
   "cell_type": "code",
   "execution_count": null,
   "metadata": {},
   "outputs": [],
   "source": [
    "# EXCERCISE : \n",
    "# Use list comphrension to write a function that takes a list \n",
    "# and returns the the same list but with where every element is positive \n",
    "my_list = [1, -1, 0, -2, 3]\n",
    "\n",
    "# your code here\n",
    "\n",
    "# your function should return [1 ,1 ,0, 2, 3]"
   ]
  },
  {
   "cell_type": "code",
   "execution_count": 35,
   "metadata": {},
   "outputs": [
    {
     "name": "stdout",
     "output_type": "stream",
     "text": [
      "[1, 1, 0, 2, 3]\n"
     ]
    }
   ],
   "source": [
    "\n",
    "\n",
    "\n",
    "\n",
    "\n",
    "### SOLUTION\n",
    "def abs_list(x) :\n",
    "    return [abs(i) for i in x]\n",
    "my_list = [1, -1, 0, -2, 3]\n",
    "print(abs_list(my_list))"
   ]
  },
  {
   "cell_type": "code",
   "execution_count": null,
   "metadata": {},
   "outputs": [],
   "source": []
  }
 ],
 "metadata": {
  "kernelspec": {
   "display_name": "Python 3",
   "language": "python",
   "name": "python3"
  },
  "language_info": {
   "codemirror_mode": {
    "name": "ipython",
    "version": 3
   },
   "file_extension": ".py",
   "mimetype": "text/x-python",
   "name": "python",
   "nbconvert_exporter": "python",
   "pygments_lexer": "ipython3",
   "version": "3.6.9"
  }
 },
 "nbformat": 4,
 "nbformat_minor": 2
}
