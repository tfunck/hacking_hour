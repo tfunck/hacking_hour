{
 "cells": [
  {
   "cell_type": "code",
   "execution_count": null,
   "metadata": {},
   "outputs": [],
   "source": [
    "### Quick recap\n",
    "\n",
    "## define variables\n",
    "myvar=1 #define an integer\n",
    "myvar=str(myvar) #can cast an integer from one type to another\n",
    "print('Type of myvar:', type(myvar)) # \"type\" function tells you the data type of a variable\n",
    "\n",
    "## collections\n",
    "mylist = [1,2,3] #lists are a seqeuntial collection of data objects. \n",
    "print('mylist[0]:', mylist[0]) #lists can be indexed to reference specific elements\n",
    "mydict = {'a':1, 'b':2} # dictionaries map keys to values\n",
    "print('mydict[a]:', mydict['a']) #dictionaries are indexed with their keys\n",
    "mystring = 'Hello World!'\n",
    "print('mystring:', mystring)\n",
    "mytuple = (1,2,3) # tuples are like lists but they can't be modified once they're defined\n",
    "print('mytuple:', mytuple)\n",
    "\n",
    "## operators\n",
    "x = 1\n",
    "x = x+1*2/3**2 \n",
    "x += 1\n",
    "mylist += [x] # some operators are also defined for other data objects, e.g., += works for strings and lists \n",
    "print('mylist after using += :', mylist)\n",
    "mystring += '!!'\n",
    "print('mystring after using +=', mystring)\n",
    "\n",
    "\n",
    "## if-elif-else\n",
    "# if <condition> : \n",
    "#     <do some stuff>\n",
    "# elif <another condition> :\n",
    "#     <do some other stuff>\n",
    "# else :\n",
    "#     <defalt stuff if none of the above conditions are true>\n",
    "\n",
    "if mylist[1] > mylist[2] :\n",
    "    print(\"A\")\n",
    "elif mylist[1] == mylist[2] :\n",
    "    print(\"B\")\n",
    "else :\n",
    "    print(\"C\")\n",
    "    \n",
    "## for-loop\n",
    "# for <variables> in <collection> :\n",
    "#     do some stuff\n",
    "for new_var in mylist :\n",
    "    print('iteration in for-loop:', new_var)\n",
    "    \n",
    "## functions\n",
    "# def <function name>(<arguments>) :\n",
    "#      <some code>\n",
    "#     return <output of function>\n",
    "\n",
    "def sqr(x) :\n",
    "    r = x ** (1/2)\n",
    "    return r, -r # function returns two outputs\n",
    "x0, x1 = sqr(9) #note how you can define two variables at the same time\n",
    "print('roots:', x0, x1)"
   ]
  },
  {
   "cell_type": "code",
   "execution_count": null,
   "metadata": {},
   "outputs": [],
   "source": [
    "### EXCERCISE\n",
    "# the code below has 3 mistakes (bugs). try to get it to run \n",
    "# the function takes a list as an input and returns the length (i.e., the number of elements in the list)\n",
    "# it uses a for-loop to iterate over the elements in the list and at each iteration it increases a counter\n",
    "# variable by 1 to keep track of the number of elements.\n",
    "\n",
    "def list_len(mylist) \n",
    "    counter #variable we are using to count the elements in the list\n",
    "    for element in mylist : #for-loop that lets us iterate over the elements of mylist\n",
    "        counter =+ 1 #increase the counter by 1 for each element in the list\n",
    "    \n",
    "    return counter #return the counter variable as the output of this function\n",
    "\n",
    "result = list_len(['a','b',True])\n",
    "print('Length = ', result)"
   ]
  },
  {
   "cell_type": "code",
   "execution_count": null,
   "metadata": {},
   "outputs": [],
   "source": [
    "\n",
    "\n",
    "\n",
    "\n",
    "\n",
    "\n",
    "### SOLUTION\n",
    "def list_len(mylist) :\n",
    "    counter=0\n",
    "    for element in mylist :\n",
    "        counter += 1\n",
    "    \n",
    "    return counter\n",
    "\n",
    "result = list_len(['a','b',True])\n",
    "print('Length = ', result)"
   ]
  },
  {
   "cell_type": "code",
   "execution_count": null,
   "metadata": {},
   "outputs": [],
   "source": [
    "### List comphrension\n",
    "# List comphrension is another way to iterate over a collection\n",
    "# Instead of using a for-loop, you can often use \"list comprehension\"\n",
    "# [ <do some stuff> for <variable> in <some collection> ]\n",
    "\n",
    "# Why would you use this?\n",
    "# Shorthand way of creating a new list based on values in an existing list"
   ]
  },
  {
   "cell_type": "code",
   "execution_count": null,
   "metadata": {},
   "outputs": [],
   "source": [
    "# here is a simple example using a for-loop to create a list\n",
    "\n",
    "mylist=[] # create an empty list\n",
    "for i in range(5): #remember: range(n) is a function that returns a sequence of numbers from 0 to n-1\n",
    "    x = i*i # multiple \"i\" by itself\n",
    "    mylist += [x] # you can use += with lists to append new elements to an existing list\n",
    "    print('iteration',i,'-->', mylist)\n",
    "    \n",
    "print('final list', mylist)"
   ]
  },
  {
   "cell_type": "code",
   "execution_count": null,
   "metadata": {},
   "outputs": [],
   "source": [
    "# another way of writing the same thing in a single line using list comphrension\n",
    "# [ <do some stuff> for <variable> in <some collection> ]\n",
    "mylist = [ i*i for i in range(5) ]\n",
    "print(mylist)"
   ]
  },
  {
   "cell_type": "code",
   "execution_count": null,
   "metadata": {},
   "outputs": [],
   "source": [
    "### Variable scope\n",
    "# variables can be divided into \"global\" and \"local\" based on their \"scope\"\n",
    "# global variables can be used anywhere in your code\n",
    "# local variables only exist within a defined \"scope\"\n",
    "\n",
    "#  total workspace\n",
    "# |-----------------------------|\n",
    "# |global --> x                 |\n",
    "# |                             |\n",
    "# |             function()      |\n",
    "# |            |-------------|  | \n",
    "# |            | local --> y |  |\n",
    "# |            |-------------|  |  \n",
    "# |-----------------------------|\n",
    "\n",
    "# in the above schema, we have an overall workspace and a workspace for a function \n",
    "# in the global workspace, we define a global variable, x.\n",
    "# inside the function we create a local variable y.\n",
    "# global x can be used anywhere, including inside function()\n",
    "# local y can only be used in function()\n",
    "# "
   ]
  },
  {
   "cell_type": "code",
   "execution_count": null,
   "metadata": {},
   "outputs": [],
   "source": [
    "### Global variables\n",
    "\n",
    "# Here we define a variable, local_1. Because it is outside of any function, it is by default a global variable\n",
    "local_1=1\n",
    "def dummy_function(): #note that inputs can have no inputs and no outputs, by default functions return \"None\"\n",
    "    global local_1 # To use the global variable inside the function, declare it with \"global\" keyword\n",
    "    local_1 += 1 \n",
    "\n",
    "dummy_function()\n",
    "\n",
    "### Don't use global variables... unless you really need to.\n",
    "### You can create really challeneging bugs with global variables \n",
    "### because it's not always obvious where a variable is beind modified"
   ]
  },
  {
   "cell_type": "code",
   "execution_count": null,
   "metadata": {},
   "outputs": [],
   "source": [
    "### Local variables\n",
    "\n",
    "#Similarly, local_2 is defined inside of \"dummy_function\" and so can only be used inside the function.\n",
    "\n",
    "def dummy_function(): \n",
    "    local_2 = 2\n",
    "    print('inside dummy_function(), local_2 =', local_2)\n",
    "    \n",
    "dummy_function()\n",
    "print('outside dummy_function(), local_2 =', local_2)"
   ]
  },
  {
   "cell_type": "code",
   "execution_count": null,
   "metadata": {},
   "outputs": [],
   "source": [
    "### EXCERCISE\n",
    "# Write some code that defines a :\n",
    "#    1) global variable, a \n",
    "#    2) function with a 2a) local variable, 2b) an operation that modifies the global using the local variable,\n",
    "#    3) a print statement showing the new value of the global value"
   ]
  },
  {
   "cell_type": "code",
   "execution_count": null,
   "metadata": {},
   "outputs": [],
   "source": [
    "\n",
    "\n",
    "\n",
    "\n",
    "\n",
    "\n",
    "\n",
    "\n",
    "\n",
    "### SOLUTION\n",
    "my_var = 1\n",
    "\n",
    "def my_func():\n",
    "    global my_var\n",
    "    another_var = 2\n",
    "    my_var += another_var\n",
    "my_func()\n",
    "print(my_var)"
   ]
  },
  {
   "cell_type": "code",
   "execution_count": null,
   "metadata": {},
   "outputs": [],
   "source": [
    "### Common python functions\n",
    "#\n",
    "# Python provides are lot of useful functions for doing basic things, so it's worth taking a minute\n",
    "# to learn them"
   ]
  },
  {
   "cell_type": "code",
   "execution_count": null,
   "metadata": {},
   "outputs": [],
   "source": [
    "### Common python functions: range()\n",
    "#    range() is a function for producing lists of numbers\n",
    "\n",
    "#    range(n) --> returns a \"sequence\" of numbers from 0 to \"n\"\n",
    "print(list(range(10))\n"
   ]
  },
  {
   "cell_type": "code",
   "execution_count": null,
   "metadata": {},
   "outputs": [],
   "source": [
    "#    range(start, stop) --> returns a sequence of numbers from \"start\" to \"stop\" - 1 \n",
    "print(list(range(5, 10)))"
   ]
  },
  {
   "cell_type": "code",
   "execution_count": null,
   "metadata": {},
   "outputs": [],
   "source": [
    "#    range(start, stop, step) --> returns sequence of numbers from \"start\" to \"stop\" - 1 with \"step\"\n",
    "print(list(range(0, 10, 2)))"
   ]
  },
  {
   "cell_type": "code",
   "execution_count": null,
   "metadata": {},
   "outputs": [],
   "source": [
    "#Remember, range() can be used to generate a sequence of numbers that can be iterated over with a for-loop\n",
    "for x in range(0,10,2):\n",
    "    print(x)"
   ]
  },
  {
   "cell_type": "code",
   "execution_count": null,
   "metadata": {},
   "outputs": [],
   "source": [
    "### Common python functions: len()\n",
    "\n",
    "#   len() --> returns the length of a collection, like a list\n",
    "print( len(['a','b','c']) )\n",
    "print( len('string') ) #strings are a collection of characters, so they also have a length"
   ]
  },
  {
   "cell_type": "code",
   "execution_count": null,
   "metadata": {},
   "outputs": [],
   "source": [
    "# Example combining len() and range()\n",
    "\n",
    "# create a list of subjects\n",
    "my_files = ['sub-01_T1w.nii.gz','sub-02_T1w.nii.gz','sub-03_T1w.nii.gz']\n",
    "n_files = len(my_files)\n",
    "\n",
    "for i in range(n_files): # range produces a list of numbers from 0 to 2\n",
    "    current_file = my_files[i] #use variable i to index list of files \n",
    "    print(current_file)"
   ]
  },
  {
   "cell_type": "code",
   "execution_count": null,
   "metadata": {},
   "outputs": [],
   "source": [
    "### EXCERCISE :\n",
    "# 1. Create a list of strings,\n",
    "# 2. use a for-loop to iterate over the elements of your list\n",
    "# 3. at each iteration calculate and print the length of the current element  "
   ]
  },
  {
   "cell_type": "code",
   "execution_count": null,
   "metadata": {},
   "outputs": [],
   "source": [
    "\n",
    "\n",
    "\n",
    "\n",
    "\n",
    "\n",
    "### SOLUTION:\n",
    "a_list = ['one', 'two', 'three', 'four']\n",
    "for element in a_list :\n",
    "    print(len(element))"
   ]
  },
  {
   "cell_type": "code",
   "execution_count": null,
   "metadata": {},
   "outputs": [],
   "source": [
    "### Common python functions: enumerate()\n",
    "\n",
    "# enumerate() is used to count the elements in a collection\n",
    "# enumerate() takes a collection as an argument\n",
    "# ((0,'a'),(1,'b'),(2,'c')) = enum(['a','b','c])\n",
    "my_list = ['a','b','c','d']\n",
    "print(list(enumerate(my_list)))"
   ]
  },
  {
   "cell_type": "code",
   "execution_count": null,
   "metadata": {},
   "outputs": [],
   "source": [
    "\n",
    "my_list = ['sub-01_T1w.nii.gz','sub-02_T1w.nii.gz','sub-03_T1w.nii.gz']\n",
    "enumerated_list = list(enumerate(my_list))\n",
    "print(enumerated_list[0])\n",
    "print(enumerated_list[1])\n",
    "print(enumerated_list[2])\n",
    "print(enumerated_list[3])"
   ]
  },
  {
   "cell_type": "code",
   "execution_count": null,
   "metadata": {},
   "outputs": [],
   "source": [
    "my_list = ['sub-01_T1w.nii.gz','sub-32_T1w.nii.gz','sub-13_T1w.nii.gz']\n",
    "for element in list(enumerate(my_list)):\n",
    "    print(element)"
   ]
  },
  {
   "cell_type": "code",
   "execution_count": null,
   "metadata": {},
   "outputs": [],
   "source": [
    "my_list = ['sub-01_T1w.nii.gz','sub-32_T1w.nii.gz','sub-13_T1w.nii.gz']\n",
    "for counter, filename in list(enumerate(my_list)):\n",
    "    print(counter, filename)"
   ]
  },
  {
   "cell_type": "code",
   "execution_count": null,
   "metadata": {},
   "outputs": [],
   "source": [
    "### Common python functions : max(), min(), abs(), sum()\n",
    "my_list=list(range(-10,10,2))\n",
    "print('min:', min(my_list))\n",
    "print('max:', max(my_list))\n",
    "print('abs:', 'abs(',my_list[0], ') -->',abs(my_list[0]))\n",
    "print('sum:', sum(my_list))"
   ]
  },
  {
   "cell_type": "code",
   "execution_count": null,
   "metadata": {},
   "outputs": [],
   "source": [
    "# EXCERCISE : \n",
    "# Use list comphrension to write a function that takes a list \n",
    "# and returns the the same list but with where every element is positive \n",
    "my_list = [1, -1, 0, -2, 3]\n",
    "\n",
    "# your code here\n",
    "\n",
    "# your function should return [1 ,1 ,0, 2, 3]"
   ]
  },
  {
   "cell_type": "code",
   "execution_count": null,
   "metadata": {},
   "outputs": [],
   "source": [
    "\n",
    "\n",
    "\n",
    "\n",
    "\n",
    "### SOLUTION\n",
    "def abs_list(x) :\n",
    "    return [abs(i) for i in x]\n",
    "my_list = [1, -1, 0, -2, 3]\n",
    "print(abs_list(my_list))"
   ]
  }
 ],
 "metadata": {
  "kernelspec": {
   "display_name": "Python 3",
   "language": "python",
   "name": "python3"
  },
  "language_info": {
   "codemirror_mode": {
    "name": "ipython",
    "version": 3
   },
   "file_extension": ".py",
   "mimetype": "text/x-python",
   "name": "python",
   "nbconvert_exporter": "python",
   "pygments_lexer": "ipython3",
   "version": "3.6.9"
  }
 },
 "nbformat": 4,
 "nbformat_minor": 2
}
