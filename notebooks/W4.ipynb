{
 "cells": [
  {
   "cell_type": "code",
   "execution_count": 97,
   "metadata": {},
   "outputs": [],
   "source": [
    "### EXCERCISE\n",
    "# Write a function that takes two lists <names_list> and <address_list> and combines them into a dictionary\n",
    "# the function should return a dictionary with the elements of names_list as keys and the elements in \n",
    "# <address_list> as keys.\n",
    "# Remember, a dictionary is defined using \"{\" and \"}\", e.g., my_dict={}\n",
    "# HINT : use zip() to combine to lists together in a for-loop\n",
    "\n",
    "names_list = ['Roberta', 'Gillian', 'Morgan']\n",
    "address_list = ['476 Robin St.', '20 46th Ave.', '9023 Glendale Rd.']\n"
   ]
  },
  {
   "cell_type": "code",
   "execution_count": 98,
   "metadata": {},
   "outputs": [
    {
     "name": "stdout",
     "output_type": "stream",
     "text": [
      "476 Robin St.\n"
     ]
    }
   ],
   "source": [
    "names_list = ['Roberta', 'Gillian', 'Morgan']\n",
    "address_list = ['476 Robin St.', '20 46th Ave.', '9023 Glendale Rd.']\n",
    "\n",
    "def lists_to_dictionary(list_a, list_b) :\n",
    "    d = {}\n",
    "    for element_a, element_b in zip(list_a,list_b):\n",
    "        d[element_a] = element_b\n",
    "    return d\n",
    "\n",
    "address_book = lists_to_dictionary(names_list, address_list)\n",
    "print(address_book['Roberta'])"
   ]
  },
  {
   "cell_type": "code",
   "execution_count": 99,
   "metadata": {},
   "outputs": [
    {
     "name": "stdout",
     "output_type": "stream",
     "text": [
      "Area =  12.56\n"
     ]
    }
   ],
   "source": [
    "### Objects\n",
    "\n",
    "# Sometimes it's useful to combine data and programs together\n",
    "# \"Objects\" let you define slightly more complicated data structures that \n",
    "# include for functions and data\n",
    "\n",
    "# You can create a new type of object by defining a \"class\"\n",
    "\n",
    "# class <ClassName>() :\n",
    "#     <data types >\n",
    "#     <function definition>\n",
    "\n",
    "class Circle():  #we're creating a new class called \"Circle\"\n",
    "    pi=3.14 # we're hardcoding new value of pi\n",
    "    r = 2   # we're also setting a fixed value for the radius\n",
    "    \n",
    "    def area(self): # as a part of the Circle class, we're defining a function for calculating the area\n",
    "        return self.pi * self.r ** 2\n",
    "\n",
    "    \n",
    "myCircle = Circle() #here we are defining a class \"instance\" based on the Circle class\n",
    "# Functions defined within objects are used by: <object>.<function>\n",
    "# --> The \"area\" function we defined within the \"Circle\" class is accessed using myCircle.area()\n",
    "a = myCircle.area()\n",
    "print('Area = ', a)\n",
    "\n",
    "#Technically, an object's functions are called \"methods\" and object's data are called \"attributes\"\n",
    "\n",
    "# We've already encountered several objects, like strings, lists, dictionaries\n",
    "# Each of these have very useful methods"
   ]
  },
  {
   "cell_type": "code",
   "execution_count": 100,
   "metadata": {},
   "outputs": [
    {
     "name": "stdout",
     "output_type": "stream",
     "text": [
      "1) [101, 304, 222, 444]\n"
     ]
    }
   ],
   "source": [
    "### List methods\n",
    "l = [101, 304, 222]\n",
    "# append will add a new element to a list. \n",
    "#this is done in-place, so you don't need to write l = l.append(x)\n",
    "l.append(444)\n",
    "print('1)',l )"
   ]
  },
  {
   "cell_type": "code",
   "execution_count": 101,
   "metadata": {},
   "outputs": [
    {
     "name": "stdout",
     "output_type": "stream",
     "text": [
      "2) [444, 222, 304, 101]\n"
     ]
    }
   ],
   "source": [
    "# \"reverse\" will reverse the order of the elements of the list\n",
    "# again this is done in-place, so you don't need to write l = l.reverse()\n",
    "l.reverse()\n",
    "print('2)', l)"
   ]
  },
  {
   "cell_type": "code",
   "execution_count": 102,
   "metadata": {},
   "outputs": [
    {
     "name": "stdout",
     "output_type": "stream",
     "text": [
      "3) [101, 222, 304, 444]\n"
     ]
    }
   ],
   "source": [
    "# \"sort\" will sort your list by either numerical order or alphabetical order\n",
    "l.sort()\n",
    "print('3)', l)"
   ]
  },
  {
   "cell_type": "code",
   "execution_count": 103,
   "metadata": {},
   "outputs": [
    {
     "name": "stdout",
     "output_type": "stream",
     "text": [
      "4) 1 0\n"
     ]
    }
   ],
   "source": [
    "# \"count\" will tell you how many instances of a given value is in the list\n",
    "print('4)', l.count(101), l.count(55))"
   ]
  },
  {
   "cell_type": "code",
   "execution_count": 104,
   "metadata": {},
   "outputs": [
    {
     "name": "stdout",
     "output_type": "stream",
     "text": [
      "5) [101, 304, 444]\n"
     ]
    }
   ],
   "source": [
    "# \"remove\" will delete the first instance of a given value\n",
    "l.remove(222)\n",
    "print('5)',l)"
   ]
  },
  {
   "cell_type": "code",
   "execution_count": 105,
   "metadata": {},
   "outputs": [
    {
     "name": "stdout",
     "output_type": "stream",
     "text": [
      "6) [101, 254, 304, 444]\n"
     ]
    }
   ],
   "source": [
    "# \"insert\" takes two arguments: \"index\" and \"object\"\n",
    "# and inserts \"object\" before the number \"index\"\n",
    "l.insert(1, 254)\n",
    "print('6)',l)"
   ]
  },
  {
   "cell_type": "code",
   "execution_count": 106,
   "metadata": {},
   "outputs": [],
   "source": [
    "### EXCERCISE :\n",
    "# Write a function that returns the lowest and highest value of a list\n",
    "# Bonus: use an if-statment to check that the argument to the function has the right type\n",
    "test_list = [-100,2,412,10]"
   ]
  },
  {
   "cell_type": "code",
   "execution_count": 107,
   "metadata": {},
   "outputs": [
    {
     "name": "stdout",
     "output_type": "stream",
     "text": [
      "The min and max of the list are: 101 444\n",
      "Whoops, looks like your argument has type <class 'int'> not <class 'list'>\n"
     ]
    }
   ],
   "source": [
    "\n",
    "\n",
    "\n",
    "\n",
    "\n",
    "### SOLUTION\n",
    "test_list = [-100,2,412,10]\n",
    "\n",
    "def min_and_max(x):\n",
    "    if type(x) == list : # we use an if-statment to check if the type of x is \"list\"\n",
    "        n = len(x) # get the length of x using \"len\"\n",
    "        x.sort() # sort the input list from lowest to highest\n",
    "        return l[0], l[n-1] # the 0th element is now the lowest in the list, and n-1 is the highest\n",
    "    else : # if the argument wasn't a list, then we print this error message\n",
    "        print('Whoops, looks like your argument has type', type(x), 'not',list)\n",
    "        return None\n",
    "\n",
    "x, y = min_and_max(test_list)\n",
    "\n",
    "print('The min and max of the list are:', x, y)\n",
    "\n",
    "min_and_max(43)\n",
    "\n",
    "        "
   ]
  },
  {
   "cell_type": "code",
   "execution_count": 108,
   "metadata": {},
   "outputs": [
    {
     "name": "stdout",
     "output_type": "stream",
     "text": [
      "['', 'path', 'to', 'my_file.nii.gz']\n"
     ]
    }
   ],
   "source": [
    "### String methods\n",
    "# \"split\" let's you break up a list based on a value\n",
    "filename = \"/path/to/my_file.nii.gz\"\n",
    "print(filename.split('/'))\n"
   ]
  },
  {
   "cell_type": "code",
   "execution_count": 109,
   "metadata": {},
   "outputs": [
    {
     "name": "stdout",
     "output_type": "stream",
     "text": [
      "['', 'path', 'to', 'my_file.nii.gz']\n",
      "#path#to#my_file.nii.gz\n"
     ]
    }
   ],
   "source": [
    "# \"join\" is also a method for string objects. it let's you combine together the elements of a list\n",
    "\n",
    "filename_list = \"/path/to/my_file.nii.gz\".split('/')\n",
    "print(filename_list)\n",
    "print('#'.join(filename_list))"
   ]
  },
  {
   "cell_type": "code",
   "execution_count": 110,
   "metadata": {},
   "outputs": [
    {
     "name": "stdout",
     "output_type": "stream",
     "text": [
      "!path!to!my_file.nii.gz\n"
     ]
    }
   ],
   "source": [
    "# replace will replace values in a string.\n",
    "# note that it doesn't work in-place, so you have to do f = f.replace(x,y)\n",
    "filename = \"/path/to/my_file.nii.gz\"\n",
    "new_filename = filename.replace('/', '!')\n",
    "print(new_filename)"
   ]
  },
  {
   "cell_type": "code",
   "execution_count": 111,
   "metadata": {},
   "outputs": [],
   "source": [
    "### EXCERCISE\n",
    "# For the list below, write a function that extracts the filename from a file path, then use a for-loop \n",
    "# or list-comphrension to iterate over the list of the filepaths and apply the function to each one\n",
    "\n",
    "# Note : you can use negative indicies to index a list. This means it will index the list from the end of the list\n",
    "#        example: myList = [100,200,140]\n",
    "#                 myList[2] == 140\n",
    "#                 myList[-1] == 140 \n",
    "list_of_paths = ['/path/to/sub-01.nii.gz', '/another/path/sub-02.nii.gz', '/yet/another/path/to/sub-03.nii.gz']"
   ]
  },
  {
   "cell_type": "code",
   "execution_count": 112,
   "metadata": {},
   "outputs": [
    {
     "name": "stdout",
     "output_type": "stream",
     "text": [
      "['sub-01.nii.gz', 'sub-02.nii.gz', 'sub-03.nii.gz']\n",
      "sub-01.nii.gz\n",
      "sub-02.nii.gz\n",
      "sub-03.nii.gz\n"
     ]
    }
   ],
   "source": [
    "\n",
    "\n",
    "\n",
    "\n",
    "\n",
    "### SOLUTION\n",
    "list_of_paths = ['/path/to/sub-01.nii.gz', '/another/path/sub-02.nii.gz', '/yet/another/path/to/sub-03.nii.gz']\n",
    "def get_filename(file_path) :\n",
    "        return file_path.split('/')[-1]\n",
    "\n",
    "# with list comprehension \n",
    "print([get_filename(fn) for fn in list_of_paths ])\n",
    "\n",
    "# with for-loop\n",
    "for fn in list_of_paths :\n",
    "    print(get_filename(fn))     "
   ]
  },
  {
   "cell_type": "code",
   "execution_count": 113,
   "metadata": {},
   "outputs": [
    {
     "name": "stdout",
     "output_type": "stream",
     "text": [
      "dict_keys(['a', 'b', 'c'])\n",
      "dict_values([1, [1.1, 1.2, 1.3], False])\n",
      "dict_items([('a', 1), ('b', [1.1, 1.2, 1.3]), ('c', False)])\n",
      "\n",
      "key: a ; value: 1\n",
      "key: b ; value: [1.1, 1.2, 1.3]\n",
      "key: c ; value: False\n"
     ]
    }
   ],
   "source": [
    "### Dictionary methods\n",
    "\n",
    "example_dict = {'a':1,'b':[1.1,1.2,1.3],'c':False}\n",
    "# print the dictionary keys\n",
    "print(example_dict.keys())\n",
    "# print the dictionary values\n",
    "print(example_dict.values())\n",
    "# print the dictionary keys and values together\n",
    "print(example_dict.items())\n",
    "print()\n",
    "\n",
    "for key, value in example_dict.items() :\n",
    "    print('key:',key, '; value:', value)"
   ]
  },
  {
   "cell_type": "code",
   "execution_count": 114,
   "metadata": {},
   "outputs": [],
   "source": [
    "### EXCERCISE\n",
    "example_dict = {'a':1,'b':[1.1,1.2,1.3],'c':False}\n",
    "# Write a for-loop that iterates over a dictionary and calculates the length of the values for keys == 'b'"
   ]
  },
  {
   "cell_type": "code",
   "execution_count": 115,
   "metadata": {},
   "outputs": [
    {
     "name": "stdout",
     "output_type": "stream",
     "text": [
      "b 3\n"
     ]
    }
   ],
   "source": [
    "\n",
    "\n",
    "\n",
    "\n",
    "\n",
    "# SOLUTION:\n",
    "example_dict = {'a':1,'b':[1.1,1.2,1.3],'c':False}\n",
    "for key, value in example_dict.items() : \n",
    "    if key == 'b' :\n",
    "        print(key, len(value))"
   ]
  },
  {
   "cell_type": "code",
   "execution_count": 116,
   "metadata": {},
   "outputs": [],
   "source": [
    "### Python libraries\n",
    "# A \"library\" or \"module\" is a packaged set of existing code that you can use.\n",
    "# One of the big advantages of Python is that it has lots and lots of really useful \"libraries\"\n",
    "# There are many standard python libraries that come with Python installations by default.\n",
    "# Other libraries need to be installed manually, but we'll get to that later...\n",
    "\n",
    "# you can load or \"import\" an installed library using \n",
    "#     import <library>\n",
    "# After you can use the functions inside of the library using :\n",
    "#    <library>.<function>"
   ]
  },
  {
   "cell_type": "code",
   "execution_count": 117,
   "metadata": {},
   "outputs": [
    {
     "data": {
      "text/plain": [
       "0.479425538604203"
      ]
     },
     "execution_count": 117,
     "metadata": {},
     "output_type": "execute_result"
    }
   ],
   "source": [
    "# math\n",
    "import math\n",
    "math.sin(0.5)"
   ]
  },
  {
   "cell_type": "code",
   "execution_count": 118,
   "metadata": {},
   "outputs": [
    {
     "data": {
      "text/plain": [
       "0.479425538604203"
      ]
     },
     "execution_count": 118,
     "metadata": {},
     "output_type": "execute_result"
    }
   ],
   "source": [
    "# If you don't want to bother with writing the name of the library, you can write \n",
    "# from <library> import <function>\n",
    "from math import sin\n",
    "sin(0.5)"
   ]
  },
  {
   "cell_type": "code",
   "execution_count": 119,
   "metadata": {},
   "outputs": [
    {
     "name": "stdout",
     "output_type": "stream",
     "text": [
      "3.141592653589793 -1.0\n"
     ]
    }
   ],
   "source": [
    "# You can also import multiple functions in the same line\n",
    "from math import sin, pi, cos\n",
    "print(pi, cos(pi)) \n",
    "# note that pi isn't a function, it's just a floating point number.\n",
    "# so modules can contain data as well as functions"
   ]
  },
  {
   "cell_type": "code",
   "execution_count": 120,
   "metadata": {},
   "outputs": [],
   "source": [
    "# In theory, you can also write:\n",
    "\n",
    "# from <library> import *\n",
    "\n",
    "# This will import all of the functions from <library>\n",
    "# While this might be convenient it's generally a bad idea, because you don't know what all the function\n",
    "# names in math are. They could conflict with functions from your own code or other libraries\n",
    "\n",
    "# Still, some library names are long and it would be a pain to write it out each time.\n",
    "# Instead you can import a library under a shorter name:\n",
    "# import <library> as <knickname>\n",
    "# you can then use the fuctions in library by writing <knickname>.<function>\n",
    "\n",
    "import matplotlib as mpl\n",
    "import numpy as np\n",
    "import pandas as pd\n"
   ]
  },
  {
   "cell_type": "code",
   "execution_count": 121,
   "metadata": {},
   "outputs": [
    {
     "name": "stdout",
     "output_type": "stream",
     "text": [
      "/path/to/sub-01.nii --> sub-01.nii --> ('sub-01', '.nii') --> sub-01\n",
      "False\n"
     ]
    }
   ],
   "source": [
    "# Modules will often contain submodules. These are separated by <.>\n",
    "\n",
    "import os #here we import the module os\n",
    "\n",
    "#path is a submodule inside of os and can be accessed as os.path\n",
    "\n",
    "# inside of os.path, there are some very useful functions like \"basename\", 'splitext\", and \"exists\"\n",
    "filepath='/path/to/sub-01.nii'\n",
    "filename=os.path.basename(filepath) # \"basename\" removes the directory path\n",
    "subject = os.path.splitext(filename) #splitext returns a tuple with the filename and the file extension\n",
    "print(filepath, '-->', filename, '-->', subject, '-->', subject[0])\n",
    "\n",
    "print(os.path.exists(filepath)) #exists will check if a given file exists\n"
   ]
  },
  {
   "cell_type": "code",
   "execution_count": 122,
   "metadata": {},
   "outputs": [
    {
     "name": "stdout",
     "output_type": "stream",
     "text": [
      "Roberta,476 Robin St.\n",
      "Gillian,20 46th Ave.\n",
      "Morgan,9023 Glendale Rd.\n",
      "True\n"
     ]
    }
   ],
   "source": [
    "### Reading and writing files\n",
    "# \"open\" is a function that let's you write new files, read existing files or append new lines to existing files\n",
    "# \"open\" takes 2 arguments, the filename and the \"mode\"\n",
    "# The mode determines what you're allowed to do to the file:\n",
    "\n",
    "# \"r\" - Read - Default value. Opens a file for reading, error if the file does not exist\n",
    "# \"a\" - Append - Opens a file for appending, creates the file if it does not exist\n",
    "# \"w\" - Write - Opens a file for writing, creates the file if it does not exist\n",
    "# \"x\" - Create - Creates the specified file, returns an error if the file exist\n",
    "from os.path import exists\n",
    "\n",
    "file = open('test.txt','w')\n",
    "\n",
    "for name, address in address_book.items() :\n",
    "    print(f'{name},{address}') # this is a clever form of string formatting. \n",
    "                               # when you write f'<some stuff>', Python will replace any variables surrounded\n",
    "                               # with curly brackets, {}, with the value of the variable\n",
    "                               # alternatively, instead of: \n",
    "                               #     f'{name},{format}' \n",
    "                               #you could write:\n",
    "                               #     '{},{}'format(name,address)\n",
    "                            \n",
    "    file.write(f'{name},{address}\\n') #we add the '\\n' because it adds a line break each time we write a line\n",
    "    \n",
    "file.close() #this closes the file so you can't write to or read from it anymore\n",
    "\n",
    "\n",
    "print(exists('test.txt')) # now if we run \"exists\" on test.txt, we get True\n"
   ]
  },
  {
   "cell_type": "code",
   "execution_count": 123,
   "metadata": {},
   "outputs": [
    {
     "name": "stdout",
     "output_type": "stream",
     "text": [
      "Roberta,476 Robin St.\n",
      "\n",
      "Gillian,20 46th Ave.\n",
      "\n",
      "Morgan,9023 Glendale Rd.\n",
      "\n"
     ]
    }
   ],
   "source": [
    "# reading the lines in a file\n",
    "# if we open a file we can use the \"readlines\" method to read one line at a time\n",
    "file = open('test.txt','r')\n",
    "for line in file.readlines():\n",
    "    print(line)"
   ]
  },
  {
   "cell_type": "code",
   "execution_count": 124,
   "metadata": {},
   "outputs": [
    {
     "name": "stdout",
     "output_type": "stream",
     "text": [
      "Roberta,476 Robin St.\n",
      "Gillian,20 46th Ave.\n",
      "Morgan,9023 Glendale Rd.\n"
     ]
    }
   ],
   "source": [
    "# notice that there is an extra blank line after each printed line\n",
    "# by default when you use \"print\", Python will add a \\n at the end of your print statement\n",
    "# however, because we had to add a \\n when we wrote each line of the file, we now effectively have 2 \\n\n",
    "# this leads to an extra line\n",
    "\n",
    "#to get rid of the \\n at the end of the line, you can use the method \"rstrip()\"\n",
    "file = open('test.txt','r')\n",
    "for line in file.readlines():\n",
    "    print(line.rstrip())"
   ]
  },
  {
   "cell_type": "code",
   "execution_count": 125,
   "metadata": {},
   "outputs": [
    {
     "name": "stdout",
     "output_type": "stream",
     "text": [
      "01,0\n",
      "22,1\n",
      "13,2\n"
     ]
    }
   ],
   "source": [
    "### EXCERCISE\n",
    "#write a function that takes a list of file paths, \n",
    "#      1) opens a new file for writing called 'subjects.csv' (--> use \"open\" )\n",
    "#      2) iterates over a the paths, keeping track of the index number in the list (--> for-loop + \"enumerate\")\n",
    "#      3) for each path, extract the subject id, e.g., sub-01 --> 01 (use \"basename\", \"splitext\", \"split\")\n",
    "#      4) then writes the subject name and their position in the list to a file (--> use \"write\")\n",
    "\n",
    "\n",
    "\n",
    "def read_file(filename): #Don't worry about this function, it's just for reading the file you write\n",
    "    with open(filename) as file: \n",
    "        for line in file.readlines():\n",
    "            print(line.rstrip())\n",
    "\n",
    "list_of_paths = ['/path/to/sub-01.nii', '/another/path/sub-22.nii', '/yet/another/path/to/sub-13.nii']   \n",
    "\n",
    "# To check your code, run:\n",
    "read_file('subjects.csv')\n",
    "# Expected Solution: \n",
    "# 01,0\n",
    "# 22,1\n",
    "# 13,2"
   ]
  },
  {
   "cell_type": "code",
   "execution_count": 126,
   "metadata": {},
   "outputs": [
    {
     "name": "stdout",
     "output_type": "stream",
     "text": [
      "0\n",
      "\t sub-01.nii\n",
      "\t sub-01\n",
      "\t 01\n",
      "1\n",
      "\t sub-22.nii\n",
      "\t sub-22\n",
      "\t 22\n",
      "2\n",
      "\t sub-13.nii\n",
      "\t sub-13\n",
      "\t 13\n",
      "01,0\n",
      "22,1\n",
      "13,2\n"
     ]
    }
   ],
   "source": [
    "\n",
    "\n",
    "\n",
    "\n",
    "\n",
    "### SOLUTION\n",
    "list_of_paths = ['/path/to/sub-01.nii', '/another/path/sub-22.nii', '/yet/another/path/to/sub-13.nii']\n",
    "\n",
    "import os\n",
    "\n",
    "def write_subjects(paths, output_filename):\n",
    "    file = open(output_filename, 'w')\n",
    "    for counter, path in enumerate(paths) :\n",
    "        print(counter)\n",
    "        \n",
    "        filename = os.path.basename(path) #remove the directories from the path name, keep just the filename\n",
    "        print('\\t',filename)\n",
    "        \n",
    "        base_filename = os.path.splitext(filename)[0] #use splitext to split the file from the extension\n",
    "        print('\\t',base_filename)\n",
    "        \n",
    "        subject_id = base_filename.split('-')[1] #use \"split\" to separate 'sub-' from the id number\n",
    "        print('\\t', subject_id)\n",
    "\n",
    "        file.write(f'{subject_id},{counter}\\n') #write to file\n",
    "    file.close()\n",
    "    \n",
    "    return 0 # by convention, returning 0 means that the code executed successfully \n",
    "\n",
    "write_subjects(list_of_paths, 'subjects.csv')\n",
    "read_file('subjects.csv')        "
   ]
  }
 ],
 "metadata": {
  "kernelspec": {
   "display_name": "Python 3",
   "language": "python",
   "name": "python3"
  },
  "language_info": {
   "codemirror_mode": {
    "name": "ipython",
    "version": 3
   },
   "file_extension": ".py",
   "mimetype": "text/x-python",
   "name": "python",
   "nbconvert_exporter": "python",
   "pygments_lexer": "ipython3",
   "version": "3.6.9"
  }
 },
 "nbformat": 4,
 "nbformat_minor": 2
}
