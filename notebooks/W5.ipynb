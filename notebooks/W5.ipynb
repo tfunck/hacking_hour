{
 "cells": [
  {
   "cell_type": "code",
   "execution_count": null,
   "metadata": {},
   "outputs": [],
   "source": [
    "### Quick Recap\n",
    "\n",
    "# \"Objects\" are a programming structure that joins functions and data together\n",
    "# That is, \"objects\" are structures with \"methods\" (i.e., functions) and \"attributes\" (i.e., data)\n",
    "# You can access or use an object's methods or functions using: <object>.<attributes/methods>\n",
    "# Lists are one example of an object and they have a .sort() method that sorts the elements of the list\n",
    "l = [1,6,2]\n",
    "l.sort() # here we are using the sort method of the list object \"l\"\n",
    "# Most things in Python are objects\n",
    "\n",
    "# Importing libraries\n",
    "# basic way of importing a library\n",
    "import numpy \n",
    "# import a library under an alias\n",
    "import numpy as np\n",
    "# import just a specific set of functions from a library\n",
    "from numpy import array, unique, arange\n",
    "\n"
   ]
  },
  {
   "cell_type": "code",
   "execution_count": null,
   "metadata": {},
   "outputs": [],
   "source": [
    "### Numpy\n",
    "# numpy is probably the most useful and widely used Python library for neuroimaging\n",
    "# It gives you access to lots of numerical functions (e.g., interpolation, filtering, random numbers)\n",
    "# and implements a very useful data structure called an \"array\"\n",
    "# There is also an \"array\" object that is native to Python, but it's not used much in neuroimaging because\n",
    "# numpy is ubiquitous and offers more features."
   ]
  },
  {
   "cell_type": "code",
   "execution_count": 10,
   "metadata": {},
   "outputs": [
    {
     "name": "stdout",
     "output_type": "stream",
     "text": [
      "[1 2 3]\n",
      "[4 5 6]\n",
      "1\n",
      "6\n",
      "[0 1]\n",
      "['0' 'True' 'v']\n",
      "[0 list([1]) list([[1], 2])]\n"
     ]
    },
    {
     "name": "stderr",
     "output_type": "stream",
     "text": [
      "/usr/local/lib/python3.6/dist-packages/ipykernel_launcher.py:26: VisibleDeprecationWarning: Creating an ndarray from ragged nested sequences (which is a list-or-tuple of lists-or-tuples-or ndarrays with different lengths or shapes) is deprecated. If you meant to do this, you must specify 'dtype=object' when creating the ndarray\n"
     ]
    }
   ],
   "source": [
    "### Arrays\n",
    "# an array is basically a matrix with arbitrarily many dimensions\n",
    "# (or more accurately a \"tensor\", because strictly speaking matrices are 2D)\n",
    "import numpy as np\n",
    "#an easy way to create an array is to write a list and convert it to an array\n",
    "myArray = np.array( [ [1,2,3], [4,5,6]] )\n",
    "\n",
    "#arrays can be indexed, much like lists\n",
    "print(myArray[0])\n",
    "print(myArray[1])\n",
    "print(myArray[0][0])\n",
    "print(myArray[1][2])\n",
    "\n",
    "\n",
    "\n",
    "# Unlike lists, arrays must have: \n",
    "#    1. Elements that are all of the same data type\n",
    "myList0 = [ 0, 1]\n",
    "print( np.array(myList0))\n",
    "myList1 = [ 0, True, 'v'] # numpy will automatically convert lists with multiple types, so be careful\n",
    "print(np.array(myList1))\n",
    "\n",
    "#    2. Have dimensions (or 'axes') of the same length\n",
    "\n",
    "myList0 = [ 0, [1],[[1],2]] # works fine as a list, but causes weird behaviour when converted to a numpy array\n",
    "print(np.array(myList0))\n"
   ]
  },
  {
   "cell_type": "code",
   "execution_count": 16,
   "metadata": {},
   "outputs": [
    {
     "name": "stdout",
     "output_type": "stream",
     "text": [
      "[['cat' 'dog']\n",
      " ['snake' 'rhino']\n",
      " ['monkey' 'spider']]\n",
      "(3, 2)\n",
      "<U6\n"
     ]
    }
   ],
   "source": [
    "# Numpy arrays have lots of useful \"attributes\"\n",
    "\n",
    "animals = np.array([['cat', 'dog'],['snake', 'rhino'], ['monkey', 'spider']])\n",
    "print(animals)\n",
    "\n",
    "# .shape tells you the size of each dimension in the array\n",
    "print(animals.shape)\n",
    "\n",
    "# .dtype tells you the data type of the array\n",
    "print(animals.dtype)\n"
   ]
  },
  {
   "cell_type": "code",
   "execution_count": null,
   "metadata": {},
   "outputs": [],
   "source": [
    "### EXCERCISE\n",
    "\n",
    "animals = np.array([['cat', 'dog'],['snake', 'rhino'], ['monkey', 'spider']])\n",
    "\n",
    "# Use for-loops, range, and .shape to print each element in the \"animals\" array\n"
   ]
  },
  {
   "cell_type": "code",
   "execution_count": 18,
   "metadata": {},
   "outputs": [
    {
     "ename": "AttributeError",
     "evalue": "'int' object has no attribute 'shape'",
     "output_type": "error",
     "traceback": [
      "\u001b[0;31m---------------------------------------------------------------------------\u001b[0m",
      "\u001b[0;31mAttributeError\u001b[0m                            Traceback (most recent call last)",
      "\u001b[0;32m<ipython-input-18-b798d2cccf93>\u001b[0m in \u001b[0;36m<module>\u001b[0;34m\u001b[0m\n\u001b[1;32m      2\u001b[0m \u001b[0manimals\u001b[0m \u001b[0;34m=\u001b[0m \u001b[0mnp\u001b[0m\u001b[0;34m.\u001b[0m\u001b[0marray\u001b[0m\u001b[0;34m(\u001b[0m\u001b[0;34m[\u001b[0m\u001b[0;34m[\u001b[0m\u001b[0;34m'cat'\u001b[0m\u001b[0;34m,\u001b[0m \u001b[0;34m'dog'\u001b[0m\u001b[0;34m]\u001b[0m\u001b[0;34m,\u001b[0m\u001b[0;34m[\u001b[0m\u001b[0;34m'snake'\u001b[0m\u001b[0;34m,\u001b[0m \u001b[0;34m'rhino'\u001b[0m\u001b[0;34m]\u001b[0m\u001b[0;34m,\u001b[0m \u001b[0;34m[\u001b[0m\u001b[0;34m'monkey'\u001b[0m\u001b[0;34m,\u001b[0m \u001b[0;34m'spider'\u001b[0m\u001b[0;34m]\u001b[0m\u001b[0;34m]\u001b[0m\u001b[0;34m)\u001b[0m\u001b[0;34m\u001b[0m\u001b[0;34m\u001b[0m\u001b[0m\n\u001b[1;32m      3\u001b[0m \u001b[0;32mfor\u001b[0m \u001b[0mrow\u001b[0m \u001b[0;32min\u001b[0m \u001b[0mrange\u001b[0m\u001b[0;34m(\u001b[0m\u001b[0manimals\u001b[0m\u001b[0;34m.\u001b[0m\u001b[0mshape\u001b[0m\u001b[0;34m[\u001b[0m\u001b[0;36m0\u001b[0m\u001b[0;34m]\u001b[0m\u001b[0;34m)\u001b[0m \u001b[0;34m:\u001b[0m\u001b[0;34m\u001b[0m\u001b[0;34m\u001b[0m\u001b[0m\n\u001b[0;32m----> 4\u001b[0;31m     \u001b[0;32mfor\u001b[0m \u001b[0manimal\u001b[0m \u001b[0;32min\u001b[0m \u001b[0mrange\u001b[0m\u001b[0;34m(\u001b[0m\u001b[0mrow\u001b[0m\u001b[0;34m.\u001b[0m\u001b[0mshape\u001b[0m\u001b[0;34m[\u001b[0m\u001b[0;36m1\u001b[0m\u001b[0;34m]\u001b[0m\u001b[0;34m)\u001b[0m \u001b[0;34m:\u001b[0m\u001b[0;34m\u001b[0m\u001b[0;34m\u001b[0m\u001b[0m\n\u001b[0m\u001b[1;32m      5\u001b[0m         \u001b[0mprint\u001b[0m\u001b[0;34m(\u001b[0m\u001b[0manimal\u001b[0m\u001b[0;34m)\u001b[0m\u001b[0;34m\u001b[0m\u001b[0;34m\u001b[0m\u001b[0m\n",
      "\u001b[0;31mAttributeError\u001b[0m: 'int' object has no attribute 'shape'"
     ]
    }
   ],
   "source": [
    "\n",
    "\n",
    "\n",
    "\n",
    "\n",
    "\n",
    "### SOLUTION\n",
    "animals = np.array([['cat', 'dog'],['snake', 'rhino'], ['monkey', 'spider']])\n",
    "for i in range(animals.shape[0]) :\n",
    "    for j in range(animals.shape[1]) :\n",
    "        print(animals[i][j])\n"
   ]
  },
  {
   "cell_type": "code",
   "execution_count": 44,
   "metadata": {},
   "outputs": [
    {
     "name": "stdout",
     "output_type": "stream",
     "text": [
      "ar\n",
      "[[ 0  2  4  6  8 10 12]\n",
      " [ 1  3  5  7  9 11 13]\n",
      " [ 1  1  3  5  8 13 21]]\n",
      "\n",
      "shape (3, 7) \n",
      "\n",
      "1.a) [0 2 4]\n",
      "1.b) [0 2 4]\n",
      "2.a) [ 7  9 11 13]\n",
      "2.b) [ 7  9 11 13]\n",
      "3.a) [ 1  3  8 21]\n",
      "3.b) [ 1  3  8 21]\n"
     ]
    }
   ],
   "source": [
    "# Slicing\n",
    "# What if you only want to access a subset of an array?\n",
    "# You can use \"slicing\" to access a part of an array\n",
    "# Examples 1, 2, and 3b will work for lists too\n",
    "\n",
    "ar = np.array([[0,2,4,6,8,10,12],[1,3,5,7,9,11,13],[1,1,3,5,8,13,21]])\n",
    "print('ar:')\n",
    "print(ar)\n",
    "print('\\nshape',ar.shape, '\\n')\n",
    "\n",
    "print('1.a)', ar[0][0:3]) #this will return the 0th, 1st, and 2nd elements of the 0th row\n",
    "print('1.b)', ar[0][:3])\n",
    "\n",
    "print('2.a)', ar[1][3:])\n",
    "print('2.b)', ar[1][3:8])\n",
    "\n",
    "print('3.a)', ar[2][[0,2,4,6]]) # can use integers to index individual elements\n",
    "print('3.b)', ar[2][0:8:2])\n",
    "\n"
   ]
  },
  {
   "cell_type": "code",
   "execution_count": 47,
   "metadata": {},
   "outputs": [
    {
     "name": "stdout",
     "output_type": "stream",
     "text": [
      "a\n",
      "[[1. 1.]\n",
      " [1. 1.]]\n",
      "\n",
      "b\n",
      "[[[0. 0. 0.]\n",
      "  [0. 0. 0.]\n",
      "  [0. 0. 0.]]\n",
      "\n",
      " [[0. 0. 0.]\n",
      "  [0. 0. 0.]\n",
      "  [0. 0. 0.]]\n",
      "\n",
      " [[0. 0. 0.]\n",
      "  [0. 0. 0.]\n",
      "  [0. 0. 0.]]]\n"
     ]
    }
   ],
   "source": [
    "### Zeros & Ones\n",
    "# You can create arrays of zeros and ones with np.zeros(<dimensions>) and np.arrays(<dimensions>)\n",
    "# with a given set of dimensions\n",
    "print('a')\n",
    "two_by_two = np.ones([2,2])\n",
    "print(two_by_two)\n",
    "\n",
    "print('\\nb')\n",
    "zeros_3d = np.zeros([3,3,3])\n",
    "print(zeros_3d)\n"
   ]
  },
  {
   "cell_type": "code",
   "execution_count": 52,
   "metadata": {},
   "outputs": [
    {
     "name": "stdout",
     "output_type": "stream",
     "text": [
      "\n",
      "vector\n",
      " [ 0  1  2  3  4  5  6  7  8  9 10 11 12 13 14 15 16 17 18 19 20 21 22 23\n",
      " 24 25 26]\n",
      "\n",
      "matrix\n",
      " [[ 0  1  2  3  4  5  6  7  8]\n",
      " [ 9 10 11 12 13 14 15 16 17]\n",
      " [18 19 20 21 22 23 24 25 26]]\n",
      "\n",
      "volume\n",
      " [[[ 0  1  2]\n",
      "  [ 3  4  5]\n",
      "  [ 6  7  8]]\n",
      "\n",
      " [[ 9 10 11]\n",
      "  [12 13 14]\n",
      "  [15 16 17]]\n",
      "\n",
      " [[18 19 20]\n",
      "  [21 22 23]\n",
      "  [24 25 26]]]\n"
     ]
    }
   ],
   "source": [
    "### Reshaping arrays\n",
    "# It can be useful to reshape an array to different dimensions. \n",
    "# The .reshape(<new dimensions>) function lets you do this.\n",
    "# for example an array with a single dimension of [27] can be \n",
    "# reshaped into an array of shape [3,3,3]\n",
    "vector = np.arange(27) # np.arange() is a function that returns an array of floats (similar to range() but not quite the same)\n",
    "print('\\nvector\\n', vector)\n",
    "matrix = vector.reshape(3,9)\n",
    "print('\\nmatrix\\n',matrix)\n",
    "volume = matrix.reshape(3,3,3)\n",
    "print('\\nvolume\\n',volume)"
   ]
  },
  {
   "cell_type": "code",
   "execution_count": 20,
   "metadata": {},
   "outputs": [
    {
     "ename": "FileNotFoundError",
     "evalue": "No such file or no access: ''",
     "output_type": "error",
     "traceback": [
      "\u001b[0;31m---------------------------------------------------------------------------\u001b[0m",
      "\u001b[0;31mFileNotFoundError\u001b[0m                         Traceback (most recent call last)",
      "\u001b[0;32m~/.local/lib/python3.6/site-packages/nibabel/loadsave.py\u001b[0m in \u001b[0;36mload\u001b[0;34m(filename, **kwargs)\u001b[0m\n\u001b[1;32m     41\u001b[0m     \u001b[0;32mtry\u001b[0m\u001b[0;34m:\u001b[0m\u001b[0;34m\u001b[0m\u001b[0;34m\u001b[0m\u001b[0m\n\u001b[0;32m---> 42\u001b[0;31m         \u001b[0mstat_result\u001b[0m \u001b[0;34m=\u001b[0m \u001b[0mos\u001b[0m\u001b[0;34m.\u001b[0m\u001b[0mstat\u001b[0m\u001b[0;34m(\u001b[0m\u001b[0mfilename\u001b[0m\u001b[0;34m)\u001b[0m\u001b[0;34m\u001b[0m\u001b[0;34m\u001b[0m\u001b[0m\n\u001b[0m\u001b[1;32m     43\u001b[0m     \u001b[0;32mexcept\u001b[0m \u001b[0mOSError\u001b[0m\u001b[0;34m:\u001b[0m\u001b[0;34m\u001b[0m\u001b[0;34m\u001b[0m\u001b[0m\n",
      "\u001b[0;31mFileNotFoundError\u001b[0m: [Errno 2] No such file or directory: ''",
      "\nDuring handling of the above exception, another exception occurred:\n",
      "\u001b[0;31mFileNotFoundError\u001b[0m                         Traceback (most recent call last)",
      "\u001b[0;32m<ipython-input-20-a39894d6551e>\u001b[0m in \u001b[0;36m<module>\u001b[0;34m\u001b[0m\n\u001b[1;32m      5\u001b[0m \u001b[0;34m\u001b[0m\u001b[0m\n\u001b[1;32m      6\u001b[0m \u001b[0mbrain_filename\u001b[0m\u001b[0;34m=\u001b[0m\u001b[0;34m''\u001b[0m\u001b[0;34m\u001b[0m\u001b[0;34m\u001b[0m\u001b[0m\n\u001b[0;32m----> 7\u001b[0;31m \u001b[0mbrain_image\u001b[0m \u001b[0;34m=\u001b[0m \u001b[0mnib\u001b[0m\u001b[0;34m.\u001b[0m\u001b[0mload\u001b[0m\u001b[0;34m(\u001b[0m\u001b[0mbrain_filename\u001b[0m\u001b[0;34m)\u001b[0m\u001b[0;34m\u001b[0m\u001b[0;34m\u001b[0m\u001b[0m\n\u001b[0m\u001b[1;32m      8\u001b[0m \u001b[0mbrain_volume\u001b[0m \u001b[0;34m=\u001b[0m \u001b[0mbrain_image\u001b[0m\u001b[0;34m.\u001b[0m\u001b[0mget_fdata\u001b[0m\u001b[0;34m(\u001b[0m\u001b[0;34m)\u001b[0m\u001b[0;34m\u001b[0m\u001b[0;34m\u001b[0m\u001b[0m\n\u001b[1;32m      9\u001b[0m \u001b[0;34m\u001b[0m\u001b[0m\n",
      "\u001b[0;32m~/.local/lib/python3.6/site-packages/nibabel/loadsave.py\u001b[0m in \u001b[0;36mload\u001b[0;34m(filename, **kwargs)\u001b[0m\n\u001b[1;32m     42\u001b[0m         \u001b[0mstat_result\u001b[0m \u001b[0;34m=\u001b[0m \u001b[0mos\u001b[0m\u001b[0;34m.\u001b[0m\u001b[0mstat\u001b[0m\u001b[0;34m(\u001b[0m\u001b[0mfilename\u001b[0m\u001b[0;34m)\u001b[0m\u001b[0;34m\u001b[0m\u001b[0;34m\u001b[0m\u001b[0m\n\u001b[1;32m     43\u001b[0m     \u001b[0;32mexcept\u001b[0m \u001b[0mOSError\u001b[0m\u001b[0;34m:\u001b[0m\u001b[0;34m\u001b[0m\u001b[0;34m\u001b[0m\u001b[0m\n\u001b[0;32m---> 44\u001b[0;31m         \u001b[0;32mraise\u001b[0m \u001b[0mFileNotFoundError\u001b[0m\u001b[0;34m(\u001b[0m\u001b[0;34mf\"No such file or no access: '{filename}'\"\u001b[0m\u001b[0;34m)\u001b[0m\u001b[0;34m\u001b[0m\u001b[0;34m\u001b[0m\u001b[0m\n\u001b[0m\u001b[1;32m     45\u001b[0m     \u001b[0;32mif\u001b[0m \u001b[0mstat_result\u001b[0m\u001b[0;34m.\u001b[0m\u001b[0mst_size\u001b[0m \u001b[0;34m<=\u001b[0m \u001b[0;36m0\u001b[0m\u001b[0;34m:\u001b[0m\u001b[0;34m\u001b[0m\u001b[0;34m\u001b[0m\u001b[0m\n\u001b[1;32m     46\u001b[0m         \u001b[0;32mraise\u001b[0m \u001b[0mImageFileError\u001b[0m\u001b[0;34m(\u001b[0m\u001b[0;34mf\"Empty file: '{filename}'\"\u001b[0m\u001b[0;34m)\u001b[0m\u001b[0;34m\u001b[0m\u001b[0;34m\u001b[0m\u001b[0m\n",
      "\u001b[0;31mFileNotFoundError\u001b[0m: No such file or no access: ''"
     ]
    }
   ],
   "source": [
    "### Why do arrays matter for brain imaging? \n",
    "\n",
    "import nibabel as nib\n",
    "import matplotlib.pyplot as plt\n",
    "\n",
    "brain_filename=''\n",
    "brain_image = nib.load(brain_filename)\n",
    "brain_volume = brain_image.get_fdata()\n",
    "\n",
    "print(f'The brain image stored at {brain_filename} has dimensions: {brain_volume.shape}')\n"
   ]
  },
  {
   "cell_type": "code",
   "execution_count": null,
   "metadata": {},
   "outputs": [],
   "source": []
  }
 ],
 "metadata": {
  "kernelspec": {
   "display_name": "Python 3",
   "language": "python",
   "name": "python3"
  },
  "language_info": {
   "codemirror_mode": {
    "name": "ipython",
    "version": 3
   },
   "file_extension": ".py",
   "mimetype": "text/x-python",
   "name": "python",
   "nbconvert_exporter": "python",
   "pygments_lexer": "ipython3",
   "version": "3.6.9"
  }
 },
 "nbformat": 4,
 "nbformat_minor": 2
}
