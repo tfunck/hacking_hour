{
 "cells": [
  {
   "cell_type": "code",
   "execution_count": null,
   "metadata": {},
   "outputs": [],
   "source": [
    "### Quick Recap\n",
    "\n",
    "# \"Objects\" are a programming structure that joins functions and data together\n",
    "# That is, \"objects\" are structures with \"methods\" (i.e., functions) and \"attributes\" (i.e., data)\n",
    "# You can access or use an object's methods or functions using: <object>.<attributes/methods>\n",
    "# Lists are one example of an object and they have a .sort() method that sorts the elements of the list\n",
    "l = [1,6,2]\n",
    "l.sort() # here we are using the sort method of the list object \"l\"\n",
    "# Most things in Python are objects\n",
    "\n",
    "# Importing libraries\n",
    "# basic way of importing a library\n",
    "import numpy \n",
    "# import a library under an alias\n",
    "import numpy as np\n",
    "# import just a specific set of functions from a library\n",
    "from numpy import array, unique, arange\n",
    "\n"
   ]
  },
  {
   "cell_type": "code",
   "execution_count": null,
   "metadata": {},
   "outputs": [],
   "source": [
    "### Numpy\n",
    "# numpy is probably the most useful and widely used Python library for neuroimaging\n",
    "# It gives you access to lots of numerical functions (e.g., interpolation, filtering, random numbers)\n",
    "# and implements a very useful data structure called an \"array\"\n",
    "# There is also an \"array\" object that is native to Python, but it's not used much in neuroimaging because\n",
    "# numpy is ubiquitous and offers more features."
   ]
  },
  {
   "cell_type": "code",
   "execution_count": null,
   "metadata": {},
   "outputs": [],
   "source": [
    "### Arrays\n",
    "# an array is basically a matrix with arbitrarily many dimensions\n",
    "# (or more accurately a \"tensor\", because strictly speaking matrices are 2D)\n",
    "import numpy as np\n",
    "#an easy way to create an array is to write a list and convert it to an array\n",
    "myArray = np.array( [ [1,2,3], [4,5,6]] )\n",
    "\n",
    "#arrays can be indexed, much like lists\n",
    "print(myArray[0])\n",
    "print(myArray[1])\n",
    "print(myArray[0][0])\n",
    "print(myArray[1][2])\n",
    "\n",
    "\n",
    "\n",
    "# Unlike lists, arrays must have: \n",
    "#    1. Elements that are all of the same data type\n",
    "myList0 = [ 0, 1]\n",
    "print( np.array(myList0))\n",
    "myList1 = [ 0, True, 'v'] # numpy will automatically convert lists with multiple types, so be careful\n",
    "print(np.array(myList1))\n",
    "\n",
    "#    2. Have dimensions (or 'axes') of the same length\n",
    "\n",
    "myList0 = [ 0, [1],[[1],2]] # works fine as a list, but causes weird behaviour when converted to a numpy array\n",
    "print(np.array(myList0))\n"
   ]
  },
  {
   "cell_type": "code",
   "execution_count": null,
   "metadata": {},
   "outputs": [],
   "source": [
    "# Numpy arrays have lots of useful \"attributes\"\n",
    "\n",
    "animals = np.array([['cat', 'dog'],['snake', 'rhino'], ['monkey', 'spider']])\n",
    "print(animals)\n",
    "\n",
    "# .shape tells you the size of each dimension in the array\n",
    "print(animals.shape)\n",
    "\n",
    "# .dtype tells you the data type of the array\n",
    "print(animals.dtype)\n"
   ]
  },
  {
   "cell_type": "code",
   "execution_count": null,
   "metadata": {},
   "outputs": [],
   "source": [
    "### EXCERCISE\n",
    "\n",
    "animals = np.array([['cat', 'dog'],['snake', 'rhino'], ['monkey', 'spider']])\n",
    "\n",
    "# Use for-loops, range, and .shape to print each element in the \"animals\" array\n"
   ]
  },
  {
   "cell_type": "code",
   "execution_count": null,
   "metadata": {},
   "outputs": [],
   "source": [
    "\n",
    "\n",
    "\n",
    "\n",
    "\n",
    "\n",
    "### SOLUTION\n",
    "animals = np.array([['cat', 'dog'],['snake', 'rhino'], ['monkey', 'spider']])\n",
    "for i in range(animals.shape[0]) :\n",
    "    for j in range(animals.shape[1]) :\n",
    "        print(animals[i][j])\n"
   ]
  },
  {
   "cell_type": "code",
   "execution_count": null,
   "metadata": {},
   "outputs": [],
   "source": [
    "# Slicing\n",
    "# What if you only want to access a subset of an array?\n",
    "# You can use \"slicing\" to access a part of an array\n",
    "# Examples 1, 2, and 3b will work for lists too\n",
    "\n",
    "ar = np.array([[0,2,4,6,8,10,12],[1,3,5,7,9,11,13],[1,1,3,5,8,13,21]])\n",
    "print('ar:')\n",
    "print(ar)\n",
    "print('\\nshape',ar.shape, '\\n')\n",
    "\n",
    "print('1.a)', ar[0][0:3]) #this will return the 0th, 1st, and 2nd elements of the 0th row\n",
    "print('1.b)', ar[0][:3]) # select from start to 2nd entry\n",
    "\n",
    "print('2.a)', ar[1][3:]) #select from 3rd entry to the end of this dimension\n",
    "print('2.b)', ar[1][3:8])\n",
    "\n",
    "print('3.a)', ar[2][[0,2,4,6]]) # can use integers to index individual elements\n",
    "print('3.b)', ar[2][0:8:2])\n",
    "\n",
    "print('4)', ar[2][:]) # select all elements in this dimension"
   ]
  },
  {
   "cell_type": "code",
   "execution_count": null,
   "metadata": {},
   "outputs": [],
   "source": [
    "### Zeros & Ones\n",
    "# You can create arrays of zeros and ones with np.zeros(<dimensions>) and np.arrays(<dimensions>)\n",
    "# with a given set of dimensions\n",
    "print('a')\n",
    "two_by_two = np.ones([2,2])\n",
    "print(two_by_two)\n",
    "\n",
    "print('\\nb')\n",
    "zeros_3d = np.zeros([3,3,3])\n",
    "print(zeros_3d)\n"
   ]
  },
  {
   "cell_type": "code",
   "execution_count": null,
   "metadata": {},
   "outputs": [],
   "source": [
    "### Reshaping arrays\n",
    "# It can be useful to reshape an array to different dimensions. \n",
    "# The .reshape(<new dimensions>) function lets you do this.\n",
    "# for example an array with a single dimension of [27] can be \n",
    "# reshaped into an array of shape [3,3,3]\n",
    "vector = np.arange(27) # np.arange() is a function that returns an array of floats (similar to range() but not quite the same)\n",
    "print('\\nvector\\n', vector)\n",
    "matrix = vector.reshape(3,9)\n",
    "print('\\nmatrix\\n',matrix)\n",
    "volume = matrix.reshape(3,3,3)\n",
    "print('\\nvolume\\n',volume)"
   ]
  },
  {
   "cell_type": "code",
   "execution_count": null,
   "metadata": {},
   "outputs": [],
   "source": [
    "!git clone https://github.com/tfunck/hacking_hour"
   ]
  },
  {
   "cell_type": "code",
   "execution_count": null,
   "metadata": {},
   "outputs": [],
   "source": [
    "### Why do arrays matter for brain imaging? \n",
    "# Brain sections (2d) and volumes (3d) are represented using arrays!\n",
    "\n",
    "import nibabel as nib #import a library for reading and writing brain images in (almost) any file format\n",
    "import matplotlib.pyplot as plt # import a library for plotting stuff and displaing 2D images\n",
    "\n",
    "brain_filename='hacking_hour/data/full16_1000um_optbal.nii.gz'\n",
    "brain_image = nib.load(brain_filename) # use nibabel method .load() to open the nifti filepath\n",
    "brain_volume = brain_image.get_fdata() # use the .get_fdata() method to load the 3D brain volume\n",
    "\n",
    "print(f'The brain image stored at {brain_filename} has dimensions (x,y,z) = {brain_volume.shape}')\n",
    "\n",
    "mid_point = int(brain_volume.shape[2]/2) # calculate the mid point of the z dimension\n",
    "\n",
    "# select a brain slice from (about) the middle of the z-axis\n",
    "brain_slice = brain_volume[:,:,mid_point]\n",
    "\n",
    "# Use the .imshow() method of the matplotlib.pyplot library to show the brain slice\n",
    "plt.imshow(brain_slice)\n"
   ]
  },
  {
   "cell_type": "code",
   "execution_count": null,
   "metadata": {},
   "outputs": [],
   "source": [
    "# can do operations on arrays. here we invert the color scheme for the brain slice\n",
    "brain_slice_inverted = brain_slice.max()  - brain_slice\n",
    "plt.imshow(brain_slice_inverted)"
   ]
  },
  {
   "cell_type": "code",
   "execution_count": null,
   "metadata": {},
   "outputs": [],
   "source": [
    "### Excercise \n",
    "# Numpy has lots of math functions (sin,cos,log,sqrt,etc.)\n",
    "# Apply one (or more) mathemetical operations to brain_slice_inverted\n",
    "# You can also apply standard mathematical operations to arrays (+,-,/,*), e.g., ar *= 2 will multiply ar by 2\n",
    "# Display your modified image with plt.imshow(<your new brain slice>)\n"
   ]
  },
  {
   "cell_type": "code",
   "execution_count": null,
   "metadata": {},
   "outputs": [],
   "source": [
    "\n",
    "\n",
    "\n",
    "\n",
    "\n",
    "### Solution\n",
    "brain_slice_sin = np.sin(brain_slice_inverted)\n",
    "plt.imshow(brain_slice_sin)"
   ]
  },
  {
   "cell_type": "code",
   "execution_count": null,
   "metadata": {},
   "outputs": [],
   "source": [
    "### Excercise \n",
    "# You can \"smooth\" images by blurring them with filters such as the Gaussian filter\n",
    "# Scipy implements a gaussian filter(<image>, <standard deviation>):\n",
    "from scipy.ndimage.filters import gaussian_filter\n",
    "\n",
    "#apply gaussian_filter to brain_slice_inverted with a few different size standard deviations \n",
    "# and display them with plt.imshow()\n"
   ]
  },
  {
   "cell_type": "code",
   "execution_count": null,
   "metadata": {},
   "outputs": [],
   "source": [
    "\n",
    "\n",
    "\n",
    "\n",
    "\n",
    "\n",
    "### Solution \n",
    "\n",
    "from scipy.ndimage.filters import gaussian_filter\n",
    "brain_slice_smoothed = gaussian_filter(brain_slice_inverted,6)\n",
    "plt.imshow(brain_slice_smoothed)"
   ]
  },
  {
   "cell_type": "code",
   "execution_count": null,
   "metadata": {},
   "outputs": [],
   "source": [
    "### Slicing arrays with arrays\n",
    "# It can often be convenient to create an array of booleans (i.e., True/False)\n",
    "# to create an image \"mask\". The mask is True (or 1) in your region of interest and False (or 0) outside\n",
    "\n",
    "# calculate 75% of the maximum pixel intensity in brain_slice_inverted\n",
    "threshold_value = brain_slice_inverted.max() * 0.2 \n",
    "\n",
    "# create a new array where pixels are True (1) if they are less than the threshold and False otherwise\n",
    "my_mask = brain_slice_inverted > threshold_value\n",
    "\n",
    "print('myMask has a shape of ', my_mask.shape, 'and a data type of', my_mask.dtype)\n",
    "\n",
    "plt.imshow(my_mask)\n"
   ]
  },
  {
   "cell_type": "code",
   "execution_count": null,
   "metadata": {},
   "outputs": [],
   "source": [
    "# Using a mask to select pixels within an image\n",
    "\n",
    "# .copy() is a method for numpy arrays that creates a copy of an array\n",
    "brain_slice_masked = brain_slice_inverted.copy() \n",
    "\n",
    "# When using numpy arrays, '~' is a boolean operator that means \"not\". It flips True to False and vice versa\n",
    "# We invert the mask so that everything < 20% of the image mask is True (1) and everything else is False (0)\n",
    "mask_inverted = ~ my_mask \n",
    "\n",
    "brain_slice_masked[ mask_inverted ] = 0\n",
    "\n",
    "plt.imshow(brain_slice_masked)"
   ]
  },
  {
   "cell_type": "code",
   "execution_count": null,
   "metadata": {},
   "outputs": [],
   "source": [
    "### EXCERCISE\n",
    "\n",
    "# Write a function that       1) takes a 3D array as input AND a standard deviation AND a threshold percentage\n",
    "#                             2) blurs it with gaussian_filter() with the standard deviation passed to the function\n",
    "#                             3) uses the the threshold percentage to create a mask based on the blurred image\n",
    "\n",
    "# Write another function that 1) takes a brain image filename as input AND a standard deviation AND a threshold percentage value \n",
    "#                             2) uses nibabel to open it\n",
    "#                             3) uses .get_fdata() to load the 3D volume \n",
    "#                             4) creates a mask of the brain volume using the first function\n",
    "#                             5) returns the 3D volume as an array\n",
    "\n",
    "# Display a section from the masked image using plt.imshow()\n",
    "\n",
    "# BONUS POINTS: in the second function check if the file exists before trying to open it\n",
    "\n",
    "brain_filename='data/full16_1000um_optbal.nii.gz'\n",
    "\n",
    "import os\n",
    "import nibabel as nib\n",
    "from scipy.ndimage.filters import gaussian_filter"
   ]
  },
  {
   "cell_type": "code",
   "execution_count": null,
   "metadata": {},
   "outputs": [],
   "source": [
    "import os\n",
    "import nibabel as nib\n",
    "from scipy.ndimage.filters import gaussian_filter\n",
    "\n",
    "def threshold(vol, sd, threshold_percentage):\n",
    "    vol_blur = gaussian_filter(vol,sd)\n",
    "    threshold_value = vol_blur.max() * threshold_percentage\n",
    "    mask = vol_blur > threshold_value\n",
    "    return mask\n",
    "\n",
    "def brain_mask_from_file(filename, sd, threshold_percentage) :\n",
    "    if os.path.exists(filename):\n",
    "        image = nib.load(filename) \n",
    "        volume = image.get_fdata()\n",
    "        mask = threshold(volume,sd,threshold_percentage)\n",
    "    else :\n",
    "        print('Error: file does not exist:',filename)\n",
    "        mask=None\n",
    "        \n",
    "    return mask\n",
    "\n",
    "brain_filename='hacking_hour/data/full16_1000um_optbal.nii.gz'\n",
    "mask = brain_mask_from_file(brain_filename, 1, 0.85)\n",
    "\n",
    "y_mid_point = int(mask.shape[1]/2) \n",
    "plt.imshow(mask[:,y_mid_point,:])\n",
    "\n",
    "    "
   ]
  },
  {
   "cell_type": "code",
   "execution_count": null,
   "metadata": {},
   "outputs": [],
   "source": []
  }
 ],
 "metadata": {
  "kernelspec": {
   "display_name": "Python 3",
   "language": "python",
   "name": "python3"
  },
  "language_info": {
   "codemirror_mode": {
    "name": "ipython",
    "version": 3
   },
   "file_extension": ".py",
   "mimetype": "text/x-python",
   "name": "python",
   "nbconvert_exporter": "python",
   "pygments_lexer": "ipython3",
   "version": "3.6.9"
  }
 },
 "nbformat": 4,
 "nbformat_minor": 2
}
